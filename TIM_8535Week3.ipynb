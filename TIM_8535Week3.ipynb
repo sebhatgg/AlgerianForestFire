{
  "nbformat": 4,
  "nbformat_minor": 0,
  "metadata": {
    "colab": {
      "name": "TIM-8535Week3.ipynb",
      "provenance": [],
      "collapsed_sections": []
    },
    "kernelspec": {
      "name": "python3",
      "display_name": "Python 3"
    },
    "language_info": {
      "name": "python"
    }
  },
  "cells": [
    {
      "cell_type": "code",
      "execution_count": 1,
      "metadata": {
        "id": "2MYbvAhgs0v7"
      },
      "outputs": [],
      "source": [
        "import pandas as pd #used for data manipulation.\n",
        "import numpy as np #used for mathematical functions.\n",
        "import matplotlib.pyplot as plt #used for charts.\n",
        "import matplotlib\n",
        "%matplotlib inline\n",
        "import seaborn as sns \n",
        "\n",
        "\n",
        "from IPython.core.pylabtools import figsize\n",
        "from sklearn.cluster import KMeans\n",
        "import sklearn.cluster as cluster\n",
        "import sklearn\n",
        "from sklearn.model_selection import train_test_split\n",
        "import datetime as dt\n",
        "from sklearn.metrics import confusion_matrix\n",
        "from sklearn.linear_model import LogisticRegression\n",
        "from sklearn.linear_model import LinearRegression"
      ]
    },
    {
      "cell_type": "code",
      "source": [
        "algerianff = pd.read_excel('Algerian_forest_fires_dataset_UPDATE.xlsx')"
      ],
      "metadata": {
        "id": "bf6eJtyRtKAX"
      },
      "execution_count": 2,
      "outputs": []
    },
    {
      "cell_type": "markdown",
      "source": [
        "The original dataset didn't have region column, since the data is from two regions a separate column for regions created and combined the two separated data within one datasets"
      ],
      "metadata": {
        "id": "MxbPsD779WFK"
      }
    },
    {
      "cell_type": "code",
      "source": [
        "algerianff.columns = algerianff.columns.str.strip() "
      ],
      "metadata": {
        "id": "mvXvIll8cybR"
      },
      "execution_count": 3,
      "outputs": []
    },
    {
      "cell_type": "markdown",
      "source": [
        "Removing the white spaces before and after the column names for the entire dataset"
      ],
      "metadata": {
        "id": "ESM1dEXodDnA"
      }
    },
    {
      "cell_type": "code",
      "source": [
        "algerianff['Classes'] = algerianff['Classes'].map(str)\n",
        "algerianff['Classes'] = algerianff['Classes'].str.strip()"
      ],
      "metadata": {
        "id": "9VXMndGmIFWY"
      },
      "execution_count": 4,
      "outputs": []
    },
    {
      "cell_type": "code",
      "source": [
        "algerianff.head()"
      ],
      "metadata": {
        "colab": {
          "base_uri": "https://localhost:8080/",
          "height": 206
        },
        "id": "mohpfiKwtlwO",
        "outputId": "c1fbe3aa-2895-4a3b-9d7a-8b1a66a16d62"
      },
      "execution_count": 5,
      "outputs": [
        {
          "output_type": "execute_result",
          "data": {
            "text/plain": [
              "   Region  day  month  year  Temperature  RH  Ws  Rain  FFMC  DMC    DC  ISI  \\\n",
              "0  Bejaia    1      6  2012           29  57  18   0.0  65.7  3.4   7.6  1.3   \n",
              "1  Bejaia    2      6  2012           29  61  13   1.3  64.4  4.1   7.6  1.0   \n",
              "2  Bejaia    3      6  2012           26  82  22  13.1  47.1  2.5   7.1  0.3   \n",
              "3  Bejaia    4      6  2012           25  89  13   2.5  28.6  1.3   6.9  0.0   \n",
              "4  Bejaia    5      6  2012           27  77  16   0.0  64.8  3.0  14.2  1.2   \n",
              "\n",
              "   BUI  FWI   Classes  \n",
              "0  3.4  0.5  not fire  \n",
              "1  3.9  0.4  not fire  \n",
              "2  2.7  0.1  not fire  \n",
              "3  1.7  0.0  not fire  \n",
              "4  3.9  0.5  not fire  "
            ],
            "text/html": [
              "\n",
              "  <div id=\"df-46d9a184-ad09-44a6-9562-681db37b9bce\">\n",
              "    <div class=\"colab-df-container\">\n",
              "      <div>\n",
              "<style scoped>\n",
              "    .dataframe tbody tr th:only-of-type {\n",
              "        vertical-align: middle;\n",
              "    }\n",
              "\n",
              "    .dataframe tbody tr th {\n",
              "        vertical-align: top;\n",
              "    }\n",
              "\n",
              "    .dataframe thead th {\n",
              "        text-align: right;\n",
              "    }\n",
              "</style>\n",
              "<table border=\"1\" class=\"dataframe\">\n",
              "  <thead>\n",
              "    <tr style=\"text-align: right;\">\n",
              "      <th></th>\n",
              "      <th>Region</th>\n",
              "      <th>day</th>\n",
              "      <th>month</th>\n",
              "      <th>year</th>\n",
              "      <th>Temperature</th>\n",
              "      <th>RH</th>\n",
              "      <th>Ws</th>\n",
              "      <th>Rain</th>\n",
              "      <th>FFMC</th>\n",
              "      <th>DMC</th>\n",
              "      <th>DC</th>\n",
              "      <th>ISI</th>\n",
              "      <th>BUI</th>\n",
              "      <th>FWI</th>\n",
              "      <th>Classes</th>\n",
              "    </tr>\n",
              "  </thead>\n",
              "  <tbody>\n",
              "    <tr>\n",
              "      <th>0</th>\n",
              "      <td>Bejaia</td>\n",
              "      <td>1</td>\n",
              "      <td>6</td>\n",
              "      <td>2012</td>\n",
              "      <td>29</td>\n",
              "      <td>57</td>\n",
              "      <td>18</td>\n",
              "      <td>0.0</td>\n",
              "      <td>65.7</td>\n",
              "      <td>3.4</td>\n",
              "      <td>7.6</td>\n",
              "      <td>1.3</td>\n",
              "      <td>3.4</td>\n",
              "      <td>0.5</td>\n",
              "      <td>not fire</td>\n",
              "    </tr>\n",
              "    <tr>\n",
              "      <th>1</th>\n",
              "      <td>Bejaia</td>\n",
              "      <td>2</td>\n",
              "      <td>6</td>\n",
              "      <td>2012</td>\n",
              "      <td>29</td>\n",
              "      <td>61</td>\n",
              "      <td>13</td>\n",
              "      <td>1.3</td>\n",
              "      <td>64.4</td>\n",
              "      <td>4.1</td>\n",
              "      <td>7.6</td>\n",
              "      <td>1.0</td>\n",
              "      <td>3.9</td>\n",
              "      <td>0.4</td>\n",
              "      <td>not fire</td>\n",
              "    </tr>\n",
              "    <tr>\n",
              "      <th>2</th>\n",
              "      <td>Bejaia</td>\n",
              "      <td>3</td>\n",
              "      <td>6</td>\n",
              "      <td>2012</td>\n",
              "      <td>26</td>\n",
              "      <td>82</td>\n",
              "      <td>22</td>\n",
              "      <td>13.1</td>\n",
              "      <td>47.1</td>\n",
              "      <td>2.5</td>\n",
              "      <td>7.1</td>\n",
              "      <td>0.3</td>\n",
              "      <td>2.7</td>\n",
              "      <td>0.1</td>\n",
              "      <td>not fire</td>\n",
              "    </tr>\n",
              "    <tr>\n",
              "      <th>3</th>\n",
              "      <td>Bejaia</td>\n",
              "      <td>4</td>\n",
              "      <td>6</td>\n",
              "      <td>2012</td>\n",
              "      <td>25</td>\n",
              "      <td>89</td>\n",
              "      <td>13</td>\n",
              "      <td>2.5</td>\n",
              "      <td>28.6</td>\n",
              "      <td>1.3</td>\n",
              "      <td>6.9</td>\n",
              "      <td>0.0</td>\n",
              "      <td>1.7</td>\n",
              "      <td>0.0</td>\n",
              "      <td>not fire</td>\n",
              "    </tr>\n",
              "    <tr>\n",
              "      <th>4</th>\n",
              "      <td>Bejaia</td>\n",
              "      <td>5</td>\n",
              "      <td>6</td>\n",
              "      <td>2012</td>\n",
              "      <td>27</td>\n",
              "      <td>77</td>\n",
              "      <td>16</td>\n",
              "      <td>0.0</td>\n",
              "      <td>64.8</td>\n",
              "      <td>3.0</td>\n",
              "      <td>14.2</td>\n",
              "      <td>1.2</td>\n",
              "      <td>3.9</td>\n",
              "      <td>0.5</td>\n",
              "      <td>not fire</td>\n",
              "    </tr>\n",
              "  </tbody>\n",
              "</table>\n",
              "</div>\n",
              "      <button class=\"colab-df-convert\" onclick=\"convertToInteractive('df-46d9a184-ad09-44a6-9562-681db37b9bce')\"\n",
              "              title=\"Convert this dataframe to an interactive table.\"\n",
              "              style=\"display:none;\">\n",
              "        \n",
              "  <svg xmlns=\"http://www.w3.org/2000/svg\" height=\"24px\"viewBox=\"0 0 24 24\"\n",
              "       width=\"24px\">\n",
              "    <path d=\"M0 0h24v24H0V0z\" fill=\"none\"/>\n",
              "    <path d=\"M18.56 5.44l.94 2.06.94-2.06 2.06-.94-2.06-.94-.94-2.06-.94 2.06-2.06.94zm-11 1L8.5 8.5l.94-2.06 2.06-.94-2.06-.94L8.5 2.5l-.94 2.06-2.06.94zm10 10l.94 2.06.94-2.06 2.06-.94-2.06-.94-.94-2.06-.94 2.06-2.06.94z\"/><path d=\"M17.41 7.96l-1.37-1.37c-.4-.4-.92-.59-1.43-.59-.52 0-1.04.2-1.43.59L10.3 9.45l-7.72 7.72c-.78.78-.78 2.05 0 2.83L4 21.41c.39.39.9.59 1.41.59.51 0 1.02-.2 1.41-.59l7.78-7.78 2.81-2.81c.8-.78.8-2.07 0-2.86zM5.41 20L4 18.59l7.72-7.72 1.47 1.35L5.41 20z\"/>\n",
              "  </svg>\n",
              "      </button>\n",
              "      \n",
              "  <style>\n",
              "    .colab-df-container {\n",
              "      display:flex;\n",
              "      flex-wrap:wrap;\n",
              "      gap: 12px;\n",
              "    }\n",
              "\n",
              "    .colab-df-convert {\n",
              "      background-color: #E8F0FE;\n",
              "      border: none;\n",
              "      border-radius: 50%;\n",
              "      cursor: pointer;\n",
              "      display: none;\n",
              "      fill: #1967D2;\n",
              "      height: 32px;\n",
              "      padding: 0 0 0 0;\n",
              "      width: 32px;\n",
              "    }\n",
              "\n",
              "    .colab-df-convert:hover {\n",
              "      background-color: #E2EBFA;\n",
              "      box-shadow: 0px 1px 2px rgba(60, 64, 67, 0.3), 0px 1px 3px 1px rgba(60, 64, 67, 0.15);\n",
              "      fill: #174EA6;\n",
              "    }\n",
              "\n",
              "    [theme=dark] .colab-df-convert {\n",
              "      background-color: #3B4455;\n",
              "      fill: #D2E3FC;\n",
              "    }\n",
              "\n",
              "    [theme=dark] .colab-df-convert:hover {\n",
              "      background-color: #434B5C;\n",
              "      box-shadow: 0px 1px 3px 1px rgba(0, 0, 0, 0.15);\n",
              "      filter: drop-shadow(0px 1px 2px rgba(0, 0, 0, 0.3));\n",
              "      fill: #FFFFFF;\n",
              "    }\n",
              "  </style>\n",
              "\n",
              "      <script>\n",
              "        const buttonEl =\n",
              "          document.querySelector('#df-46d9a184-ad09-44a6-9562-681db37b9bce button.colab-df-convert');\n",
              "        buttonEl.style.display =\n",
              "          google.colab.kernel.accessAllowed ? 'block' : 'none';\n",
              "\n",
              "        async function convertToInteractive(key) {\n",
              "          const element = document.querySelector('#df-46d9a184-ad09-44a6-9562-681db37b9bce');\n",
              "          const dataTable =\n",
              "            await google.colab.kernel.invokeFunction('convertToInteractive',\n",
              "                                                     [key], {});\n",
              "          if (!dataTable) return;\n",
              "\n",
              "          const docLinkHtml = 'Like what you see? Visit the ' +\n",
              "            '<a target=\"_blank\" href=https://colab.research.google.com/notebooks/data_table.ipynb>data table notebook</a>'\n",
              "            + ' to learn more about interactive tables.';\n",
              "          element.innerHTML = '';\n",
              "          dataTable['output_type'] = 'display_data';\n",
              "          await google.colab.output.renderOutput(dataTable, element);\n",
              "          const docLink = document.createElement('div');\n",
              "          docLink.innerHTML = docLinkHtml;\n",
              "          element.appendChild(docLink);\n",
              "        }\n",
              "      </script>\n",
              "    </div>\n",
              "  </div>\n",
              "  "
            ]
          },
          "metadata": {},
          "execution_count": 5
        }
      ]
    },
    {
      "cell_type": "code",
      "source": [
        "algerianff.describe()"
      ],
      "metadata": {
        "colab": {
          "base_uri": "https://localhost:8080/",
          "height": 364
        },
        "id": "tzEFasYytqLy",
        "outputId": "8d22d8ba-4522-4e2a-9d65-38b6ab11aaac"
      },
      "execution_count": 6,
      "outputs": [
        {
          "output_type": "execute_result",
          "data": {
            "text/plain": [
              "              day       month    year  Temperature          RH          Ws  \\\n",
              "count  244.000000  244.000000   244.0   244.000000  244.000000  244.000000   \n",
              "mean    15.754098    7.500000  2012.0    32.172131   61.938525   15.504098   \n",
              "std      8.825059    1.112961     0.0     3.633843   14.884200    2.810178   \n",
              "min      1.000000    6.000000  2012.0    22.000000   21.000000    6.000000   \n",
              "25%      8.000000    7.000000  2012.0    30.000000   52.000000   14.000000   \n",
              "50%     16.000000    7.500000  2012.0    32.000000   63.000000   15.000000   \n",
              "75%     23.000000    8.000000  2012.0    35.000000   73.250000   17.000000   \n",
              "max     31.000000    9.000000  2012.0    42.000000   90.000000   29.000000   \n",
              "\n",
              "             Rain        FFMC         DMC          DC         ISI         BUI  \\\n",
              "count  244.000000  244.000000  244.000000  244.000000  244.000000  244.000000   \n",
              "mean     0.760656   77.887705   14.673361   49.288115    4.759836   16.673361   \n",
              "std      1.999406   14.337571   12.368039   47.619662    4.154628   14.201648   \n",
              "min      0.000000   28.600000    0.700000    6.900000    0.000000    1.100000   \n",
              "25%      0.000000   72.075000    5.800000   13.275000    1.400000    6.000000   \n",
              "50%      0.000000   83.500000   11.300000   33.100000    3.500000   12.450000   \n",
              "75%      0.500000   88.300000   20.750000   68.150000    7.300000   22.525000   \n",
              "max     16.800000   96.000000   65.900000  220.400000   19.000000   68.000000   \n",
              "\n",
              "              FWI  \n",
              "count  244.000000  \n",
              "mean     7.049180  \n",
              "std      7.428366  \n",
              "min      0.000000  \n",
              "25%      0.700000  \n",
              "50%      4.450000  \n",
              "75%     11.375000  \n",
              "max     31.100000  "
            ],
            "text/html": [
              "\n",
              "  <div id=\"df-9fc992e7-cf55-4bd0-bff1-bad9c6838606\">\n",
              "    <div class=\"colab-df-container\">\n",
              "      <div>\n",
              "<style scoped>\n",
              "    .dataframe tbody tr th:only-of-type {\n",
              "        vertical-align: middle;\n",
              "    }\n",
              "\n",
              "    .dataframe tbody tr th {\n",
              "        vertical-align: top;\n",
              "    }\n",
              "\n",
              "    .dataframe thead th {\n",
              "        text-align: right;\n",
              "    }\n",
              "</style>\n",
              "<table border=\"1\" class=\"dataframe\">\n",
              "  <thead>\n",
              "    <tr style=\"text-align: right;\">\n",
              "      <th></th>\n",
              "      <th>day</th>\n",
              "      <th>month</th>\n",
              "      <th>year</th>\n",
              "      <th>Temperature</th>\n",
              "      <th>RH</th>\n",
              "      <th>Ws</th>\n",
              "      <th>Rain</th>\n",
              "      <th>FFMC</th>\n",
              "      <th>DMC</th>\n",
              "      <th>DC</th>\n",
              "      <th>ISI</th>\n",
              "      <th>BUI</th>\n",
              "      <th>FWI</th>\n",
              "    </tr>\n",
              "  </thead>\n",
              "  <tbody>\n",
              "    <tr>\n",
              "      <th>count</th>\n",
              "      <td>244.000000</td>\n",
              "      <td>244.000000</td>\n",
              "      <td>244.0</td>\n",
              "      <td>244.000000</td>\n",
              "      <td>244.000000</td>\n",
              "      <td>244.000000</td>\n",
              "      <td>244.000000</td>\n",
              "      <td>244.000000</td>\n",
              "      <td>244.000000</td>\n",
              "      <td>244.000000</td>\n",
              "      <td>244.000000</td>\n",
              "      <td>244.000000</td>\n",
              "      <td>244.000000</td>\n",
              "    </tr>\n",
              "    <tr>\n",
              "      <th>mean</th>\n",
              "      <td>15.754098</td>\n",
              "      <td>7.500000</td>\n",
              "      <td>2012.0</td>\n",
              "      <td>32.172131</td>\n",
              "      <td>61.938525</td>\n",
              "      <td>15.504098</td>\n",
              "      <td>0.760656</td>\n",
              "      <td>77.887705</td>\n",
              "      <td>14.673361</td>\n",
              "      <td>49.288115</td>\n",
              "      <td>4.759836</td>\n",
              "      <td>16.673361</td>\n",
              "      <td>7.049180</td>\n",
              "    </tr>\n",
              "    <tr>\n",
              "      <th>std</th>\n",
              "      <td>8.825059</td>\n",
              "      <td>1.112961</td>\n",
              "      <td>0.0</td>\n",
              "      <td>3.633843</td>\n",
              "      <td>14.884200</td>\n",
              "      <td>2.810178</td>\n",
              "      <td>1.999406</td>\n",
              "      <td>14.337571</td>\n",
              "      <td>12.368039</td>\n",
              "      <td>47.619662</td>\n",
              "      <td>4.154628</td>\n",
              "      <td>14.201648</td>\n",
              "      <td>7.428366</td>\n",
              "    </tr>\n",
              "    <tr>\n",
              "      <th>min</th>\n",
              "      <td>1.000000</td>\n",
              "      <td>6.000000</td>\n",
              "      <td>2012.0</td>\n",
              "      <td>22.000000</td>\n",
              "      <td>21.000000</td>\n",
              "      <td>6.000000</td>\n",
              "      <td>0.000000</td>\n",
              "      <td>28.600000</td>\n",
              "      <td>0.700000</td>\n",
              "      <td>6.900000</td>\n",
              "      <td>0.000000</td>\n",
              "      <td>1.100000</td>\n",
              "      <td>0.000000</td>\n",
              "    </tr>\n",
              "    <tr>\n",
              "      <th>25%</th>\n",
              "      <td>8.000000</td>\n",
              "      <td>7.000000</td>\n",
              "      <td>2012.0</td>\n",
              "      <td>30.000000</td>\n",
              "      <td>52.000000</td>\n",
              "      <td>14.000000</td>\n",
              "      <td>0.000000</td>\n",
              "      <td>72.075000</td>\n",
              "      <td>5.800000</td>\n",
              "      <td>13.275000</td>\n",
              "      <td>1.400000</td>\n",
              "      <td>6.000000</td>\n",
              "      <td>0.700000</td>\n",
              "    </tr>\n",
              "    <tr>\n",
              "      <th>50%</th>\n",
              "      <td>16.000000</td>\n",
              "      <td>7.500000</td>\n",
              "      <td>2012.0</td>\n",
              "      <td>32.000000</td>\n",
              "      <td>63.000000</td>\n",
              "      <td>15.000000</td>\n",
              "      <td>0.000000</td>\n",
              "      <td>83.500000</td>\n",
              "      <td>11.300000</td>\n",
              "      <td>33.100000</td>\n",
              "      <td>3.500000</td>\n",
              "      <td>12.450000</td>\n",
              "      <td>4.450000</td>\n",
              "    </tr>\n",
              "    <tr>\n",
              "      <th>75%</th>\n",
              "      <td>23.000000</td>\n",
              "      <td>8.000000</td>\n",
              "      <td>2012.0</td>\n",
              "      <td>35.000000</td>\n",
              "      <td>73.250000</td>\n",
              "      <td>17.000000</td>\n",
              "      <td>0.500000</td>\n",
              "      <td>88.300000</td>\n",
              "      <td>20.750000</td>\n",
              "      <td>68.150000</td>\n",
              "      <td>7.300000</td>\n",
              "      <td>22.525000</td>\n",
              "      <td>11.375000</td>\n",
              "    </tr>\n",
              "    <tr>\n",
              "      <th>max</th>\n",
              "      <td>31.000000</td>\n",
              "      <td>9.000000</td>\n",
              "      <td>2012.0</td>\n",
              "      <td>42.000000</td>\n",
              "      <td>90.000000</td>\n",
              "      <td>29.000000</td>\n",
              "      <td>16.800000</td>\n",
              "      <td>96.000000</td>\n",
              "      <td>65.900000</td>\n",
              "      <td>220.400000</td>\n",
              "      <td>19.000000</td>\n",
              "      <td>68.000000</td>\n",
              "      <td>31.100000</td>\n",
              "    </tr>\n",
              "  </tbody>\n",
              "</table>\n",
              "</div>\n",
              "      <button class=\"colab-df-convert\" onclick=\"convertToInteractive('df-9fc992e7-cf55-4bd0-bff1-bad9c6838606')\"\n",
              "              title=\"Convert this dataframe to an interactive table.\"\n",
              "              style=\"display:none;\">\n",
              "        \n",
              "  <svg xmlns=\"http://www.w3.org/2000/svg\" height=\"24px\"viewBox=\"0 0 24 24\"\n",
              "       width=\"24px\">\n",
              "    <path d=\"M0 0h24v24H0V0z\" fill=\"none\"/>\n",
              "    <path d=\"M18.56 5.44l.94 2.06.94-2.06 2.06-.94-2.06-.94-.94-2.06-.94 2.06-2.06.94zm-11 1L8.5 8.5l.94-2.06 2.06-.94-2.06-.94L8.5 2.5l-.94 2.06-2.06.94zm10 10l.94 2.06.94-2.06 2.06-.94-2.06-.94-.94-2.06-.94 2.06-2.06.94z\"/><path d=\"M17.41 7.96l-1.37-1.37c-.4-.4-.92-.59-1.43-.59-.52 0-1.04.2-1.43.59L10.3 9.45l-7.72 7.72c-.78.78-.78 2.05 0 2.83L4 21.41c.39.39.9.59 1.41.59.51 0 1.02-.2 1.41-.59l7.78-7.78 2.81-2.81c.8-.78.8-2.07 0-2.86zM5.41 20L4 18.59l7.72-7.72 1.47 1.35L5.41 20z\"/>\n",
              "  </svg>\n",
              "      </button>\n",
              "      \n",
              "  <style>\n",
              "    .colab-df-container {\n",
              "      display:flex;\n",
              "      flex-wrap:wrap;\n",
              "      gap: 12px;\n",
              "    }\n",
              "\n",
              "    .colab-df-convert {\n",
              "      background-color: #E8F0FE;\n",
              "      border: none;\n",
              "      border-radius: 50%;\n",
              "      cursor: pointer;\n",
              "      display: none;\n",
              "      fill: #1967D2;\n",
              "      height: 32px;\n",
              "      padding: 0 0 0 0;\n",
              "      width: 32px;\n",
              "    }\n",
              "\n",
              "    .colab-df-convert:hover {\n",
              "      background-color: #E2EBFA;\n",
              "      box-shadow: 0px 1px 2px rgba(60, 64, 67, 0.3), 0px 1px 3px 1px rgba(60, 64, 67, 0.15);\n",
              "      fill: #174EA6;\n",
              "    }\n",
              "\n",
              "    [theme=dark] .colab-df-convert {\n",
              "      background-color: #3B4455;\n",
              "      fill: #D2E3FC;\n",
              "    }\n",
              "\n",
              "    [theme=dark] .colab-df-convert:hover {\n",
              "      background-color: #434B5C;\n",
              "      box-shadow: 0px 1px 3px 1px rgba(0, 0, 0, 0.15);\n",
              "      filter: drop-shadow(0px 1px 2px rgba(0, 0, 0, 0.3));\n",
              "      fill: #FFFFFF;\n",
              "    }\n",
              "  </style>\n",
              "\n",
              "      <script>\n",
              "        const buttonEl =\n",
              "          document.querySelector('#df-9fc992e7-cf55-4bd0-bff1-bad9c6838606 button.colab-df-convert');\n",
              "        buttonEl.style.display =\n",
              "          google.colab.kernel.accessAllowed ? 'block' : 'none';\n",
              "\n",
              "        async function convertToInteractive(key) {\n",
              "          const element = document.querySelector('#df-9fc992e7-cf55-4bd0-bff1-bad9c6838606');\n",
              "          const dataTable =\n",
              "            await google.colab.kernel.invokeFunction('convertToInteractive',\n",
              "                                                     [key], {});\n",
              "          if (!dataTable) return;\n",
              "\n",
              "          const docLinkHtml = 'Like what you see? Visit the ' +\n",
              "            '<a target=\"_blank\" href=https://colab.research.google.com/notebooks/data_table.ipynb>data table notebook</a>'\n",
              "            + ' to learn more about interactive tables.';\n",
              "          element.innerHTML = '';\n",
              "          dataTable['output_type'] = 'display_data';\n",
              "          await google.colab.output.renderOutput(dataTable, element);\n",
              "          const docLink = document.createElement('div');\n",
              "          docLink.innerHTML = docLinkHtml;\n",
              "          element.appendChild(docLink);\n",
              "        }\n",
              "      </script>\n",
              "    </div>\n",
              "  </div>\n",
              "  "
            ]
          },
          "metadata": {},
          "execution_count": 6
        }
      ]
    },
    {
      "cell_type": "code",
      "source": [
        "algerianff.shape"
      ],
      "metadata": {
        "colab": {
          "base_uri": "https://localhost:8080/"
        },
        "id": "pFFqkZ6AtuFD",
        "outputId": "ac2b77bd-e16c-430b-c82a-b40dce79c699"
      },
      "execution_count": 7,
      "outputs": [
        {
          "output_type": "execute_result",
          "data": {
            "text/plain": [
              "(244, 15)"
            ]
          },
          "metadata": {},
          "execution_count": 7
        }
      ]
    },
    {
      "cell_type": "code",
      "source": [
        "algerianff.info()"
      ],
      "metadata": {
        "colab": {
          "base_uri": "https://localhost:8080/"
        },
        "id": "V4QGKCLetyPR",
        "outputId": "4fa1d2fa-5cb5-4c07-9732-77d51f8af5ec"
      },
      "execution_count": 8,
      "outputs": [
        {
          "output_type": "stream",
          "name": "stdout",
          "text": [
            "<class 'pandas.core.frame.DataFrame'>\n",
            "RangeIndex: 244 entries, 0 to 243\n",
            "Data columns (total 15 columns):\n",
            " #   Column       Non-Null Count  Dtype  \n",
            "---  ------       --------------  -----  \n",
            " 0   Region       244 non-null    object \n",
            " 1   day          244 non-null    int64  \n",
            " 2   month        244 non-null    int64  \n",
            " 3   year         244 non-null    int64  \n",
            " 4   Temperature  244 non-null    int64  \n",
            " 5   RH           244 non-null    int64  \n",
            " 6   Ws           244 non-null    int64  \n",
            " 7   Rain         244 non-null    float64\n",
            " 8   FFMC         244 non-null    float64\n",
            " 9   DMC          244 non-null    float64\n",
            " 10  DC           244 non-null    float64\n",
            " 11  ISI          244 non-null    float64\n",
            " 12  BUI          244 non-null    float64\n",
            " 13  FWI          244 non-null    float64\n",
            " 14  Classes      244 non-null    object \n",
            "dtypes: float64(7), int64(6), object(2)\n",
            "memory usage: 28.7+ KB\n"
          ]
        }
      ]
    },
    {
      "cell_type": "code",
      "source": [
        "sns.pairplot(algerianff, x_vars=['BUI'], y_vars='FWI',height=7, aspect=0.8, kind='scatter');"
      ],
      "metadata": {
        "colab": {
          "base_uri": "https://localhost:8080/",
          "height": 515
        },
        "id": "k4ZIdcy2t48X",
        "outputId": "581818d1-df42-486d-fdc8-3cec4c2939bd"
      },
      "execution_count": null,
      "outputs": [
        {
          "output_type": "display_data",
          "data": {
            "text/plain": [
              "<Figure size 403.2x504 with 1 Axes>"
            ],
            "image/png": "[encoded data removed]"
          },
          "metadata": {
            "needs_background": "light"
          }
        }
      ]
    },
    {
      "cell_type": "code",
      "source": [
        "sns.pairplot(algerianff, x_vars=['ISI'], y_vars='FWI',height=7, aspect=0.8, kind='scatter');"
      ],
      "metadata": {
        "colab": {
          "base_uri": "https://localhost:8080/",
          "height": 515
        },
        "id": "H3uKjdJTDz3y",
        "outputId": "1f2e6a28-bb99-412b-a070-97a4a856dbc5"
      },
      "execution_count": null,
      "outputs": [
        {
          "output_type": "display_data",
          "data": {
            "text/plain": [
              "<Figure size 403.2x504 with 1 Axes>"
            ],
            "image/png": "[encoded data removed]"
          },
          "metadata": {
            "needs_background": "light"
          }
        }
      ]
    },
    {
      "cell_type": "code",
      "source": [
        "algerianff.corr()"
      ],
      "metadata": {
        "colab": {
          "base_uri": "https://localhost:8080/",
          "height": 590
        },
        "id": "_W9SGciv7olH",
        "outputId": "5371a99a-fae5-4286-f762-79475b62447a"
      },
      "execution_count": null,
      "outputs": [
        {
          "output_type": "execute_result",
          "data": {
            "text/plain": [
              "                      day         month  year  Temperature        RH  \\\n",
              "day          1.000000e+00  2.232788e-17   NaN     0.095772 -0.074209   \n",
              "month        2.232788e-17  1.000000e+00   NaN    -0.059017 -0.037884   \n",
              "year                  NaN           NaN   NaN          NaN       NaN   \n",
              "Temperature  9.577222e-02 -5.901677e-02   NaN     1.000000 -0.654443   \n",
              "RH          -7.420934e-02 -3.788419e-02   NaN    -0.654443  1.000000   \n",
              "Ws           4.700086e-02 -4.144673e-02   NaN    -0.278132  0.236084   \n",
              "Rain        -1.122654e-01  3.532207e-02   NaN    -0.326786  0.222968   \n",
              "FFMC         2.240321e-01  1.557668e-02   NaN     0.677491 -0.645658   \n",
              "DMC          4.915710e-01  6.817778e-02   NaN     0.483105 -0.405133   \n",
              "DC           5.279285e-01  1.276719e-01   NaN     0.370498 -0.220330   \n",
              "ISI          1.793008e-01  6.354476e-02   NaN     0.605971 -0.688268   \n",
              "BUI          5.172239e-01  8.556743e-02   NaN     0.456415 -0.349685   \n",
              "FWI          3.502343e-01  8.173226e-02   NaN     0.566839 -0.580457   \n",
              "\n",
              "                   Ws      Rain      FFMC       DMC        DC       ISI  \\\n",
              "day          0.047001 -0.112265  0.224032  0.491571  0.527929  0.179301   \n",
              "month       -0.041447  0.035322  0.015577  0.068178  0.127672  0.063545   \n",
              "year              NaN       NaN       NaN       NaN       NaN       NaN   \n",
              "Temperature -0.278132 -0.326786  0.677491  0.483105  0.370498  0.605971   \n",
              "RH           0.236084  0.222968 -0.645658 -0.405133 -0.220330 -0.688268   \n",
              "Ws           1.000000  0.170169 -0.163255 -0.001246  0.076245  0.012245   \n",
              "Rain         0.170169  1.000000 -0.544045 -0.288548 -0.296804 -0.347862   \n",
              "FFMC        -0.163255 -0.544045  1.000000  0.602391  0.503910  0.740751   \n",
              "DMC         -0.001246 -0.288548  0.602391  1.000000  0.875358  0.678355   \n",
              "DC           0.076245 -0.296804  0.503910  0.875358  1.000000  0.503919   \n",
              "ISI          0.012245 -0.347862  0.740751  0.678355  0.503919  1.000000   \n",
              "BUI          0.030303 -0.299409  0.590251  0.982206  0.941672  0.641351   \n",
              "FWI          0.033957 -0.324755  0.691430  0.875191  0.737041  0.922422   \n",
              "\n",
              "                  BUI       FWI  \n",
              "day          0.517224  0.350234  \n",
              "month        0.085567  0.081732  \n",
              "year              NaN       NaN  \n",
              "Temperature  0.456415  0.566839  \n",
              "RH          -0.349685 -0.580457  \n",
              "Ws           0.030303  0.033957  \n",
              "Rain        -0.299409 -0.324755  \n",
              "FFMC         0.590251  0.691430  \n",
              "DMC          0.982206  0.875191  \n",
              "DC           0.941672  0.737041  \n",
              "ISI          0.641351  0.922422  \n",
              "BUI          1.000000  0.856912  \n",
              "FWI          0.856912  1.000000  "
            ],
            "text/html": [
              "\n",
              "  <div id=\"df-d76a927c-bbbf-4742-b8ad-0874009eec1d\">\n",
              "    <div class=\"colab-df-container\">\n",
              "      <div>\n",
              "<style scoped>\n",
              "    .dataframe tbody tr th:only-of-type {\n",
              "        vertical-align: middle;\n",
              "    }\n",
              "\n",
              "    .dataframe tbody tr th {\n",
              "        vertical-align: top;\n",
              "    }\n",
              "\n",
              "    .dataframe thead th {\n",
              "        text-align: right;\n",
              "    }\n",
              "</style>\n",
              "<table border=\"1\" class=\"dataframe\">\n",
              "  <thead>\n",
              "    <tr style=\"text-align: right;\">\n",
              "      <th></th>\n",
              "      <th>day</th>\n",
              "      <th>month</th>\n",
              "      <th>year</th>\n",
              "      <th>Temperature</th>\n",
              "      <th>RH</th>\n",
              "      <th>Ws</th>\n",
              "      <th>Rain</th>\n",
              "      <th>FFMC</th>\n",
              "      <th>DMC</th>\n",
              "      <th>DC</th>\n",
              "      <th>ISI</th>\n",
              "      <th>BUI</th>\n",
              "      <th>FWI</th>\n",
              "    </tr>\n",
              "  </thead>\n",
              "  <tbody>\n",
              "    <tr>\n",
              "      <th>day</th>\n",
              "      <td>1.000000e+00</td>\n",
              "      <td>2.232788e-17</td>\n",
              "      <td>NaN</td>\n",
              "      <td>0.095772</td>\n",
              "      <td>-0.074209</td>\n",
              "      <td>0.047001</td>\n",
              "      <td>-0.112265</td>\n",
              "      <td>0.224032</td>\n",
              "      <td>0.491571</td>\n",
              "      <td>0.527929</td>\n",
              "      <td>0.179301</td>\n",
              "      <td>0.517224</td>\n",
              "      <td>0.350234</td>\n",
              "    </tr>\n",
              "    <tr>\n",
              "      <th>month</th>\n",
              "      <td>2.232788e-17</td>\n",
              "      <td>1.000000e+00</td>\n",
              "      <td>NaN</td>\n",
              "      <td>-0.059017</td>\n",
              "      <td>-0.037884</td>\n",
              "      <td>-0.041447</td>\n",
              "      <td>0.035322</td>\n",
              "      <td>0.015577</td>\n",
              "      <td>0.068178</td>\n",
              "      <td>0.127672</td>\n",
              "      <td>0.063545</td>\n",
              "      <td>0.085567</td>\n",
              "      <td>0.081732</td>\n",
              "    </tr>\n",
              "    <tr>\n",
              "      <th>year</th>\n",
              "      <td>NaN</td>\n",
              "      <td>NaN</td>\n",
              "      <td>NaN</td>\n",
              "      <td>NaN</td>\n",
              "      <td>NaN</td>\n",
              "      <td>NaN</td>\n",
              "      <td>NaN</td>\n",
              "      <td>NaN</td>\n",
              "      <td>NaN</td>\n",
              "      <td>NaN</td>\n",
              "      <td>NaN</td>\n",
              "      <td>NaN</td>\n",
              "      <td>NaN</td>\n",
              "    </tr>\n",
              "    <tr>\n",
              "      <th>Temperature</th>\n",
              "      <td>9.577222e-02</td>\n",
              "      <td>-5.901677e-02</td>\n",
              "      <td>NaN</td>\n",
              "      <td>1.000000</td>\n",
              "      <td>-0.654443</td>\n",
              "      <td>-0.278132</td>\n",
              "      <td>-0.326786</td>\n",
              "      <td>0.677491</td>\n",
              "      <td>0.483105</td>\n",
              "      <td>0.370498</td>\n",
              "      <td>0.605971</td>\n",
              "      <td>0.456415</td>\n",
              "      <td>0.566839</td>\n",
              "    </tr>\n",
              "    <tr>\n",
              "      <th>RH</th>\n",
              "      <td>-7.420934e-02</td>\n",
              "      <td>-3.788419e-02</td>\n",
              "      <td>NaN</td>\n",
              "      <td>-0.654443</td>\n",
              "      <td>1.000000</td>\n",
              "      <td>0.236084</td>\n",
              "      <td>0.222968</td>\n",
              "      <td>-0.645658</td>\n",
              "      <td>-0.405133</td>\n",
              "      <td>-0.220330</td>\n",
              "      <td>-0.688268</td>\n",
              "      <td>-0.349685</td>\n",
              "      <td>-0.580457</td>\n",
              "    </tr>\n",
              "    <tr>\n",
              "      <th>Ws</th>\n",
              "      <td>4.700086e-02</td>\n",
              "      <td>-4.144673e-02</td>\n",
              "      <td>NaN</td>\n",
              "      <td>-0.278132</td>\n",
              "      <td>0.236084</td>\n",
              "      <td>1.000000</td>\n",
              "      <td>0.170169</td>\n",
              "      <td>-0.163255</td>\n",
              "      <td>-0.001246</td>\n",
              "      <td>0.076245</td>\n",
              "      <td>0.012245</td>\n",
              "      <td>0.030303</td>\n",
              "      <td>0.033957</td>\n",
              "    </tr>\n",
              "    <tr>\n",
              "      <th>Rain</th>\n",
              "      <td>-1.122654e-01</td>\n",
              "      <td>3.532207e-02</td>\n",
              "      <td>NaN</td>\n",
              "      <td>-0.326786</td>\n",
              "      <td>0.222968</td>\n",
              "      <td>0.170169</td>\n",
              "      <td>1.000000</td>\n",
              "      <td>-0.544045</td>\n",
              "      <td>-0.288548</td>\n",
              "      <td>-0.296804</td>\n",
              "      <td>-0.347862</td>\n",
              "      <td>-0.299409</td>\n",
              "      <td>-0.324755</td>\n",
              "    </tr>\n",
              "    <tr>\n",
              "      <th>FFMC</th>\n",
              "      <td>2.240321e-01</td>\n",
              "      <td>1.557668e-02</td>\n",
              "      <td>NaN</td>\n",
              "      <td>0.677491</td>\n",
              "      <td>-0.645658</td>\n",
              "      <td>-0.163255</td>\n",
              "      <td>-0.544045</td>\n",
              "      <td>1.000000</td>\n",
              "      <td>0.602391</td>\n",
              "      <td>0.503910</td>\n",
              "      <td>0.740751</td>\n",
              "      <td>0.590251</td>\n",
              "      <td>0.691430</td>\n",
              "    </tr>\n",
              "    <tr>\n",
              "      <th>DMC</th>\n",
              "      <td>4.915710e-01</td>\n",
              "      <td>6.817778e-02</td>\n",
              "      <td>NaN</td>\n",
              "      <td>0.483105</td>\n",
              "      <td>-0.405133</td>\n",
              "      <td>-0.001246</td>\n",
              "      <td>-0.288548</td>\n",
              "      <td>0.602391</td>\n",
              "      <td>1.000000</td>\n",
              "      <td>0.875358</td>\n",
              "      <td>0.678355</td>\n",
              "      <td>0.982206</td>\n",
              "      <td>0.875191</td>\n",
              "    </tr>\n",
              "    <tr>\n",
              "      <th>DC</th>\n",
              "      <td>5.279285e-01</td>\n",
              "      <td>1.276719e-01</td>\n",
              "      <td>NaN</td>\n",
              "      <td>0.370498</td>\n",
              "      <td>-0.220330</td>\n",
              "      <td>0.076245</td>\n",
              "      <td>-0.296804</td>\n",
              "      <td>0.503910</td>\n",
              "      <td>0.875358</td>\n",
              "      <td>1.000000</td>\n",
              "      <td>0.503919</td>\n",
              "      <td>0.941672</td>\n",
              "      <td>0.737041</td>\n",
              "    </tr>\n",
              "    <tr>\n",
              "      <th>ISI</th>\n",
              "      <td>1.793008e-01</td>\n",
              "      <td>6.354476e-02</td>\n",
              "      <td>NaN</td>\n",
              "      <td>0.605971</td>\n",
              "      <td>-0.688268</td>\n",
              "      <td>0.012245</td>\n",
              "      <td>-0.347862</td>\n",
              "      <td>0.740751</td>\n",
              "      <td>0.678355</td>\n",
              "      <td>0.503919</td>\n",
              "      <td>1.000000</td>\n",
              "      <td>0.641351</td>\n",
              "      <td>0.922422</td>\n",
              "    </tr>\n",
              "    <tr>\n",
              "      <th>BUI</th>\n",
              "      <td>5.172239e-01</td>\n",
              "      <td>8.556743e-02</td>\n",
              "      <td>NaN</td>\n",
              "      <td>0.456415</td>\n",
              "      <td>-0.349685</td>\n",
              "      <td>0.030303</td>\n",
              "      <td>-0.299409</td>\n",
              "      <td>0.590251</td>\n",
              "      <td>0.982206</td>\n",
              "      <td>0.941672</td>\n",
              "      <td>0.641351</td>\n",
              "      <td>1.000000</td>\n",
              "      <td>0.856912</td>\n",
              "    </tr>\n",
              "    <tr>\n",
              "      <th>FWI</th>\n",
              "      <td>3.502343e-01</td>\n",
              "      <td>8.173226e-02</td>\n",
              "      <td>NaN</td>\n",
              "      <td>0.566839</td>\n",
              "      <td>-0.580457</td>\n",
              "      <td>0.033957</td>\n",
              "      <td>-0.324755</td>\n",
              "      <td>0.691430</td>\n",
              "      <td>0.875191</td>\n",
              "      <td>0.737041</td>\n",
              "      <td>0.922422</td>\n",
              "      <td>0.856912</td>\n",
              "      <td>1.000000</td>\n",
              "    </tr>\n",
              "  </tbody>\n",
              "</table>\n",
              "</div>\n",
              "      <button class=\"colab-df-convert\" onclick=\"convertToInteractive('df-d76a927c-bbbf-4742-b8ad-0874009eec1d')\"\n",
              "              title=\"Convert this dataframe to an interactive table.\"\n",
              "              style=\"display:none;\">\n",
              "        \n",
              "  <svg xmlns=\"http://www.w3.org/2000/svg\" height=\"24px\"viewBox=\"0 0 24 24\"\n",
              "       width=\"24px\">\n",
              "    <path d=\"M0 0h24v24H0V0z\" fill=\"none\"/>\n",
              "    <path d=\"M18.56 5.44l.94 2.06.94-2.06 2.06-.94-2.06-.94-.94-2.06-.94 2.06-2.06.94zm-11 1L8.5 8.5l.94-2.06 2.06-.94-2.06-.94L8.5 2.5l-.94 2.06-2.06.94zm10 10l.94 2.06.94-2.06 2.06-.94-2.06-.94-.94-2.06-.94 2.06-2.06.94z\"/><path d=\"M17.41 7.96l-1.37-1.37c-.4-.4-.92-.59-1.43-.59-.52 0-1.04.2-1.43.59L10.3 9.45l-7.72 7.72c-.78.78-.78 2.05 0 2.83L4 21.41c.39.39.9.59 1.41.59.51 0 1.02-.2 1.41-.59l7.78-7.78 2.81-2.81c.8-.78.8-2.07 0-2.86zM5.41 20L4 18.59l7.72-7.72 1.47 1.35L5.41 20z\"/>\n",
              "  </svg>\n",
              "      </button>\n",
              "      \n",
              "  <style>\n",
              "    .colab-df-container {\n",
              "      display:flex;\n",
              "      flex-wrap:wrap;\n",
              "      gap: 12px;\n",
              "    }\n",
              "\n",
              "    .colab-df-convert {\n",
              "      background-color: #E8F0FE;\n",
              "      border: none;\n",
              "      border-radius: 50%;\n",
              "      cursor: pointer;\n",
              "      display: none;\n",
              "      fill: #1967D2;\n",
              "      height: 32px;\n",
              "      padding: 0 0 0 0;\n",
              "      width: 32px;\n",
              "    }\n",
              "\n",
              "    .colab-df-convert:hover {\n",
              "      background-color: #E2EBFA;\n",
              "      box-shadow: 0px 1px 2px rgba(60, 64, 67, 0.3), 0px 1px 3px 1px rgba(60, 64, 67, 0.15);\n",
              "      fill: #174EA6;\n",
              "    }\n",
              "\n",
              "    [theme=dark] .colab-df-convert {\n",
              "      background-color: #3B4455;\n",
              "      fill: #D2E3FC;\n",
              "    }\n",
              "\n",
              "    [theme=dark] .colab-df-convert:hover {\n",
              "      background-color: #434B5C;\n",
              "      box-shadow: 0px 1px 3px 1px rgba(0, 0, 0, 0.15);\n",
              "      filter: drop-shadow(0px 1px 2px rgba(0, 0, 0, 0.3));\n",
              "      fill: #FFFFFF;\n",
              "    }\n",
              "  </style>\n",
              "\n",
              "      <script>\n",
              "        const buttonEl =\n",
              "          document.querySelector('#df-d76a927c-bbbf-4742-b8ad-0874009eec1d button.colab-df-convert');\n",
              "        buttonEl.style.display =\n",
              "          google.colab.kernel.accessAllowed ? 'block' : 'none';\n",
              "\n",
              "        async function convertToInteractive(key) {\n",
              "          const element = document.querySelector('#df-d76a927c-bbbf-4742-b8ad-0874009eec1d');\n",
              "          const dataTable =\n",
              "            await google.colab.kernel.invokeFunction('convertToInteractive',\n",
              "                                                     [key], {});\n",
              "          if (!dataTable) return;\n",
              "\n",
              "          const docLinkHtml = 'Like what you see? Visit the ' +\n",
              "            '<a target=\"_blank\" href=https://colab.research.google.com/notebooks/data_table.ipynb>data table notebook</a>'\n",
              "            + ' to learn more about interactive tables.';\n",
              "          element.innerHTML = '';\n",
              "          dataTable['output_type'] = 'display_data';\n",
              "          await google.colab.output.renderOutput(dataTable, element);\n",
              "          const docLink = document.createElement('div');\n",
              "          docLink.innerHTML = docLinkHtml;\n",
              "          element.appendChild(docLink);\n",
              "        }\n",
              "      </script>\n",
              "    </div>\n",
              "  </div>\n",
              "  "
            ]
          },
          "metadata": {},
          "execution_count": 10
        }
      ]
    },
    {
      "cell_type": "markdown",
      "source": [
        "Some of the variables are highly correlated"
      ],
      "metadata": {
        "id": "4mAu1Jfh79L9"
      }
    },
    {
      "cell_type": "code",
      "source": [
        "plt.figure(figsize= (10,6))\n",
        "corrMatrix = algerianff.corr()\n",
        "sns.heatmap(corrMatrix, annot=True)\n",
        "plt.show()"
      ],
      "metadata": {
        "colab": {
          "base_uri": "https://localhost:8080/",
          "height": 431
        },
        "id": "j-eDMYa6G5GR",
        "outputId": "3922dd89-7119-41b7-adf8-05d58115d346"
      },
      "execution_count": 9,
      "outputs": [
        {
          "output_type": "display_data",
          "data": {
            "text/plain": [
              "<Figure size 720x432 with 2 Axes>"
            ],
            "image/png": "[encoded data removed]"
          },
          "metadata": {
            "needs_background": "light"
          }
        }
      ]
    },
    {
      "cell_type": "code",
      "source": [
        ""
      ],
      "metadata": {
        "id": "Z5ca9WJ1AzLg"
      },
      "execution_count": null,
      "outputs": []
    },
    {
      "cell_type": "markdown",
      "source": [
        "**Linear Regression**"
      ],
      "metadata": {
        "id": "XA-gsjEZgOn3"
      }
    },
    {
      "cell_type": "code",
      "source": [
        "regre=np.polyfit(algerianff['BUI'], algerianff['FWI'], deg = 1)"
      ],
      "metadata": {
        "id": "SZUFTJhT8Szb"
      },
      "execution_count": null,
      "outputs": []
    },
    {
      "cell_type": "code",
      "source": [
        "regre"
      ],
      "metadata": {
        "colab": {
          "base_uri": "https://localhost:8080/"
        },
        "id": "w4PLTGoZ8_En",
        "outputId": "03197ec8-9cc9-466a-a52a-8d042617fdd6"
      },
      "execution_count": null,
      "outputs": [
        {
          "output_type": "execute_result",
          "data": {
            "text/plain": [
              "array([ 0.44821926, -0.42414104])"
            ]
          },
          "metadata": {},
          "execution_count": 13
        }
      ]
    },
    {
      "cell_type": "code",
      "source": [
        "trend = np.polyval(regre, algerianff['BUI'])\n",
        "plt.scatter(algerianff['BUI'], algerianff['FWI'])\n",
        "plt.plot(algerianff['BUI'], trend, 'r');"
      ],
      "metadata": {
        "colab": {
          "base_uri": "https://localhost:8080/",
          "height": 265
        },
        "id": "2r8yhvkl9CKI",
        "outputId": "ea97bf50-3195-4007-a175-daa8b001e65e"
      },
      "execution_count": null,
      "outputs": [
        {
          "output_type": "display_data",
          "data": {
            "text/plain": [
              "<Figure size 432x288 with 1 Axes>"
            ],
            "image/png": "[encoded data removed]"
          },
          "metadata": {
            "needs_background": "light"
          }
        }
      ]
    },
    {
      "cell_type": "code",
      "source": [
        "reg = np.polyfit(algerianff['DMC'], algerianff['FWI'], deg = 1)\n",
        "reg"
      ],
      "metadata": {
        "colab": {
          "base_uri": "https://localhost:8080/"
        },
        "id": "gj-VAWiG__Gl",
        "outputId": "db126cb3-d853-400e-ac20-4b999297c31c"
      },
      "execution_count": null,
      "outputs": [
        {
          "output_type": "execute_result",
          "data": {
            "text/plain": [
              "array([ 0.52564857, -0.66385077])"
            ]
          },
          "metadata": {},
          "execution_count": 15
        }
      ]
    },
    {
      "cell_type": "code",
      "source": [
        "trend2 = np.polyval(reg, algerianff['DMC'])\n",
        "plt.scatter(algerianff['DMC'], algerianff['FWI'])\n",
        "plt.xlabel(\"DMC\")\n",
        "plt.ylabel(\"FWI\")\n",
        "plt.plot(algerianff['DMC'], trend2, 'r');"
      ],
      "metadata": {
        "colab": {
          "base_uri": "https://localhost:8080/",
          "height": 279
        },
        "id": "ImV1gqnkEyUM",
        "outputId": "dd78e8d6-dc93-447c-9268-7a90d4a2e4f3"
      },
      "execution_count": null,
      "outputs": [
        {
          "output_type": "display_data",
          "data": {
            "text/plain": [
              "<Figure size 432x288 with 1 Axes>"
            ],
            "image/png": "[encoded data removed]"
          },
          "metadata": {
            "needs_background": "light"
          }
        }
      ]
    },
    {
      "cell_type": "code",
      "source": [
        "predict = np.poly1d(reg)\n",
        "predict(45)"
      ],
      "metadata": {
        "colab": {
          "base_uri": "https://localhost:8080/"
        },
        "id": "9rKICa-N2yTw",
        "outputId": "23f33a59-614e-4e3a-9008-b3c158e21e3e"
      },
      "execution_count": null,
      "outputs": [
        {
          "output_type": "execute_result",
          "data": {
            "text/plain": [
              "22.990335036457374"
            ]
          },
          "metadata": {},
          "execution_count": 27
        }
      ]
    },
    {
      "cell_type": "markdown",
      "source": [
        "The prediction indicates that when the DMC is 45 the FWI will be 22.99"
      ],
      "metadata": {
        "id": "3HMDVcCa3EqE"
      }
    },
    {
      "cell_type": "code",
      "source": [
        "reg3 = np.polyfit(algerianff['DC'], algerianff['BUI'], deg = 1)\n",
        "reg3"
      ],
      "metadata": {
        "colab": {
          "base_uri": "https://localhost:8080/"
        },
        "id": "CjeAhfSlAawj",
        "outputId": "08c3594c-8ff0-4431-adcd-47d2ca094471"
      },
      "execution_count": null,
      "outputs": [
        {
          "output_type": "execute_result",
          "data": {
            "text/plain": [
              "array([0.28083551, 2.83150783])"
            ]
          },
          "metadata": {},
          "execution_count": 17
        }
      ]
    },
    {
      "cell_type": "code",
      "source": [
        "trend3 = np.polyval(reg3, algerianff['DC'])\n",
        "plt.scatter(algerianff['DC'], algerianff['BUI'])\n",
        "plt.plot(algerianff['DC'], trend3, 'y');"
      ],
      "metadata": {
        "colab": {
          "base_uri": "https://localhost:8080/",
          "height": 265
        },
        "id": "6onJyTKHJIKF",
        "outputId": "8e9f997b-abf6-4241-e1da-dd19e92e5532"
      },
      "execution_count": null,
      "outputs": [
        {
          "output_type": "display_data",
          "data": {
            "text/plain": [
              "<Figure size 432x288 with 1 Axes>"
            ],
            "image/png": "[encoded data removed]"
          },
          "metadata": {
            "needs_background": "light"
          }
        }
      ]
    },
    {
      "cell_type": "code",
      "source": [
        "reg4 = np.polyfit(algerianff['Temperature'], algerianff['RH'], deg = 1)\n",
        "reg4"
      ],
      "metadata": {
        "colab": {
          "base_uri": "https://localhost:8080/"
        },
        "id": "G9JJIjltNn_2",
        "outputId": "890393bb-4731-4202-a1cd-b527b8086335"
      },
      "execution_count": null,
      "outputs": [
        {
          "output_type": "execute_result",
          "data": {
            "text/plain": [
              "array([ -2.68059621, 148.17901755])"
            ]
          },
          "metadata": {},
          "execution_count": 19
        }
      ]
    },
    {
      "cell_type": "code",
      "source": [
        "trend4 = np.polyval(reg4, algerianff['Temperature'])\n",
        "plt.scatter(algerianff['Temperature'], algerianff['RH'])\n",
        "plt.xlabel(\"Temperature\")\n",
        "plt.ylabel(\"Reative Humudity\")\n",
        "plt.plot(algerianff['Temperature'], trend4, 'y');"
      ],
      "metadata": {
        "colab": {
          "base_uri": "https://localhost:8080/",
          "height": 279
        },
        "id": "-nJng8XfNtHi",
        "outputId": "4c3792d8-3e0b-4b80-ba89-0b23c433c1ec"
      },
      "execution_count": null,
      "outputs": [
        {
          "output_type": "display_data",
          "data": {
            "text/plain": [
              "<Figure size 432x288 with 1 Axes>"
            ],
            "image/png": "[encoded data removed]"
          },
          "metadata": {
            "needs_background": "light"
          }
        }
      ]
    },
    {
      "cell_type": "code",
      "source": [
        "predict = np.poly1d(reg3)\n",
        "predict(1)"
      ],
      "metadata": {
        "colab": {
          "base_uri": "https://localhost:8080/"
        },
        "id": "TeRV0q0WOAph",
        "outputId": "d6d7d739-2ee9-4740-feae-f6cad7e0d915"
      },
      "execution_count": null,
      "outputs": [
        {
          "output_type": "execute_result",
          "data": {
            "text/plain": [
              "3.112343335118045"
            ]
          },
          "metadata": {},
          "execution_count": 21
        }
      ]
    },
    {
      "cell_type": "code",
      "source": [
        "algerianff.groupby('month')['BUI'].mean()"
      ],
      "metadata": {
        "colab": {
          "base_uri": "https://localhost:8080/"
        },
        "id": "vot-xjseOaid",
        "outputId": "c8f082b7-5674-44ac-e8e5-5460d1046c55"
      },
      "execution_count": null,
      "outputs": [
        {
          "output_type": "execute_result",
          "data": {
            "text/plain": [
              "month\n",
              "6    10.295000\n",
              "7    16.908065\n",
              "8    29.420968\n",
              "9     9.636667\n",
              "Name: BUI, dtype: float64"
            ]
          },
          "metadata": {},
          "execution_count": 93
        }
      ]
    },
    {
      "cell_type": "code",
      "source": [
        "algerianff.groupby('month')['Temperature'].mean()"
      ],
      "metadata": {
        "colab": {
          "base_uri": "https://localhost:8080/"
        },
        "id": "J5V7jQrFRca3",
        "outputId": "3dc4e7cd-7544-4aef-c828-e543672e11da"
      },
      "execution_count": null,
      "outputs": [
        {
          "output_type": "execute_result",
          "data": {
            "text/plain": [
              "month\n",
              "6    30.800000\n",
              "7    33.048387\n",
              "8    35.338710\n",
              "9    29.366667\n",
              "Name: Temperature, dtype: float64"
            ]
          },
          "metadata": {},
          "execution_count": 22
        }
      ]
    },
    {
      "cell_type": "code",
      "source": [
        "algerianff.groupby('month')['Rain'].mean()"
      ],
      "metadata": {
        "colab": {
          "base_uri": "https://localhost:8080/"
        },
        "id": "5xCt_v1_-N-t",
        "outputId": "fb30c031-84a1-49f7-8208-5459c8956ebf"
      },
      "execution_count": null,
      "outputs": [
        {
          "output_type": "execute_result",
          "data": {
            "text/plain": [
              "month\n",
              "6    0.975000\n",
              "7    0.451613\n",
              "8    0.448387\n",
              "9    1.188333\n",
              "Name: Rain, dtype: float64"
            ]
          },
          "metadata": {},
          "execution_count": 117
        }
      ]
    },
    {
      "cell_type": "code",
      "source": [
        "algerianff['outcome'] = algerianff['Classes']"
      ],
      "metadata": {
        "id": "-VdN1LSl0oBO"
      },
      "execution_count": 90,
      "outputs": []
    },
    {
      "cell_type": "code",
      "source": [
        "algerianff['outcome'] = algerianff['Classes']"
      ],
      "metadata": {
        "id": "5ZggZ2p-5M5A"
      },
      "execution_count": 91,
      "outputs": []
    },
    {
      "cell_type": "code",
      "source": [
        "algerianff.head()"
      ],
      "metadata": {
        "colab": {
          "base_uri": "https://localhost:8080/",
          "height": 206
        },
        "id": "Hm_gxvQZ478u",
        "outputId": "e73e7874-6a39-4492-8c5c-efd693e2c73e"
      },
      "execution_count": null,
      "outputs": [
        {
          "output_type": "execute_result",
          "data": {
            "text/plain": [
              "   Region  day  month  year  Temperature  RH  Ws  Rain  FFMC  DMC    DC  ISI  \\\n",
              "0  Bejaia    1      6  2012           29  57  18   0.0  65.7  3.4   7.6  1.3   \n",
              "1  Bejaia    2      6  2012           29  61  13   1.3  64.4  4.1   7.6  1.0   \n",
              "2  Bejaia    3      6  2012           26  82  22  13.1  47.1  2.5   7.1  0.3   \n",
              "3  Bejaia    4      6  2012           25  89  13   2.5  28.6  1.3   6.9  0.0   \n",
              "4  Bejaia    5      6  2012           27  77  16   0.0  64.8  3.0  14.2  1.2   \n",
              "\n",
              "   BUI  FWI   Classes   outcome  \n",
              "0  3.4  0.5  not fire  not fire  \n",
              "1  3.9  0.4  not fire  not fire  \n",
              "2  2.7  0.1  not fire  not fire  \n",
              "3  1.7  0.0  not fire  not fire  \n",
              "4  3.9  0.5  not fire  not fire  "
            ],
            "text/html": [
              "\n",
              "  <div id=\"df-36c39609-745d-4dde-8a5d-f062c6ad3df2\">\n",
              "    <div class=\"colab-df-container\">\n",
              "      <div>\n",
              "<style scoped>\n",
              "    .dataframe tbody tr th:only-of-type {\n",
              "        vertical-align: middle;\n",
              "    }\n",
              "\n",
              "    .dataframe tbody tr th {\n",
              "        vertical-align: top;\n",
              "    }\n",
              "\n",
              "    .dataframe thead th {\n",
              "        text-align: right;\n",
              "    }\n",
              "</style>\n",
              "<table border=\"1\" class=\"dataframe\">\n",
              "  <thead>\n",
              "    <tr style=\"text-align: right;\">\n",
              "      <th></th>\n",
              "      <th>Region</th>\n",
              "      <th>day</th>\n",
              "      <th>month</th>\n",
              "      <th>year</th>\n",
              "      <th>Temperature</th>\n",
              "      <th>RH</th>\n",
              "      <th>Ws</th>\n",
              "      <th>Rain</th>\n",
              "      <th>FFMC</th>\n",
              "      <th>DMC</th>\n",
              "      <th>DC</th>\n",
              "      <th>ISI</th>\n",
              "      <th>BUI</th>\n",
              "      <th>FWI</th>\n",
              "      <th>Classes</th>\n",
              "      <th>outcome</th>\n",
              "    </tr>\n",
              "  </thead>\n",
              "  <tbody>\n",
              "    <tr>\n",
              "      <th>0</th>\n",
              "      <td>Bejaia</td>\n",
              "      <td>1</td>\n",
              "      <td>6</td>\n",
              "      <td>2012</td>\n",
              "      <td>29</td>\n",
              "      <td>57</td>\n",
              "      <td>18</td>\n",
              "      <td>0.0</td>\n",
              "      <td>65.7</td>\n",
              "      <td>3.4</td>\n",
              "      <td>7.6</td>\n",
              "      <td>1.3</td>\n",
              "      <td>3.4</td>\n",
              "      <td>0.5</td>\n",
              "      <td>not fire</td>\n",
              "      <td>not fire</td>\n",
              "    </tr>\n",
              "    <tr>\n",
              "      <th>1</th>\n",
              "      <td>Bejaia</td>\n",
              "      <td>2</td>\n",
              "      <td>6</td>\n",
              "      <td>2012</td>\n",
              "      <td>29</td>\n",
              "      <td>61</td>\n",
              "      <td>13</td>\n",
              "      <td>1.3</td>\n",
              "      <td>64.4</td>\n",
              "      <td>4.1</td>\n",
              "      <td>7.6</td>\n",
              "      <td>1.0</td>\n",
              "      <td>3.9</td>\n",
              "      <td>0.4</td>\n",
              "      <td>not fire</td>\n",
              "      <td>not fire</td>\n",
              "    </tr>\n",
              "    <tr>\n",
              "      <th>2</th>\n",
              "      <td>Bejaia</td>\n",
              "      <td>3</td>\n",
              "      <td>6</td>\n",
              "      <td>2012</td>\n",
              "      <td>26</td>\n",
              "      <td>82</td>\n",
              "      <td>22</td>\n",
              "      <td>13.1</td>\n",
              "      <td>47.1</td>\n",
              "      <td>2.5</td>\n",
              "      <td>7.1</td>\n",
              "      <td>0.3</td>\n",
              "      <td>2.7</td>\n",
              "      <td>0.1</td>\n",
              "      <td>not fire</td>\n",
              "      <td>not fire</td>\n",
              "    </tr>\n",
              "    <tr>\n",
              "      <th>3</th>\n",
              "      <td>Bejaia</td>\n",
              "      <td>4</td>\n",
              "      <td>6</td>\n",
              "      <td>2012</td>\n",
              "      <td>25</td>\n",
              "      <td>89</td>\n",
              "      <td>13</td>\n",
              "      <td>2.5</td>\n",
              "      <td>28.6</td>\n",
              "      <td>1.3</td>\n",
              "      <td>6.9</td>\n",
              "      <td>0.0</td>\n",
              "      <td>1.7</td>\n",
              "      <td>0.0</td>\n",
              "      <td>not fire</td>\n",
              "      <td>not fire</td>\n",
              "    </tr>\n",
              "    <tr>\n",
              "      <th>4</th>\n",
              "      <td>Bejaia</td>\n",
              "      <td>5</td>\n",
              "      <td>6</td>\n",
              "      <td>2012</td>\n",
              "      <td>27</td>\n",
              "      <td>77</td>\n",
              "      <td>16</td>\n",
              "      <td>0.0</td>\n",
              "      <td>64.8</td>\n",
              "      <td>3.0</td>\n",
              "      <td>14.2</td>\n",
              "      <td>1.2</td>\n",
              "      <td>3.9</td>\n",
              "      <td>0.5</td>\n",
              "      <td>not fire</td>\n",
              "      <td>not fire</td>\n",
              "    </tr>\n",
              "  </tbody>\n",
              "</table>\n",
              "</div>\n",
              "      <button class=\"colab-df-convert\" onclick=\"convertToInteractive('df-36c39609-745d-4dde-8a5d-f062c6ad3df2')\"\n",
              "              title=\"Convert this dataframe to an interactive table.\"\n",
              "              style=\"display:none;\">\n",
              "        \n",
              "  <svg xmlns=\"http://www.w3.org/2000/svg\" height=\"24px\"viewBox=\"0 0 24 24\"\n",
              "       width=\"24px\">\n",
              "    <path d=\"M0 0h24v24H0V0z\" fill=\"none\"/>\n",
              "    <path d=\"M18.56 5.44l.94 2.06.94-2.06 2.06-.94-2.06-.94-.94-2.06-.94 2.06-2.06.94zm-11 1L8.5 8.5l.94-2.06 2.06-.94-2.06-.94L8.5 2.5l-.94 2.06-2.06.94zm10 10l.94 2.06.94-2.06 2.06-.94-2.06-.94-.94-2.06-.94 2.06-2.06.94z\"/><path d=\"M17.41 7.96l-1.37-1.37c-.4-.4-.92-.59-1.43-.59-.52 0-1.04.2-1.43.59L10.3 9.45l-7.72 7.72c-.78.78-.78 2.05 0 2.83L4 21.41c.39.39.9.59 1.41.59.51 0 1.02-.2 1.41-.59l7.78-7.78 2.81-2.81c.8-.78.8-2.07 0-2.86zM5.41 20L4 18.59l7.72-7.72 1.47 1.35L5.41 20z\"/>\n",
              "  </svg>\n",
              "      </button>\n",
              "      \n",
              "  <style>\n",
              "    .colab-df-container {\n",
              "      display:flex;\n",
              "      flex-wrap:wrap;\n",
              "      gap: 12px;\n",
              "    }\n",
              "\n",
              "    .colab-df-convert {\n",
              "      background-color: #E8F0FE;\n",
              "      border: none;\n",
              "      border-radius: 50%;\n",
              "      cursor: pointer;\n",
              "      display: none;\n",
              "      fill: #1967D2;\n",
              "      height: 32px;\n",
              "      padding: 0 0 0 0;\n",
              "      width: 32px;\n",
              "    }\n",
              "\n",
              "    .colab-df-convert:hover {\n",
              "      background-color: #E2EBFA;\n",
              "      box-shadow: 0px 1px 2px rgba(60, 64, 67, 0.3), 0px 1px 3px 1px rgba(60, 64, 67, 0.15);\n",
              "      fill: #174EA6;\n",
              "    }\n",
              "\n",
              "    [theme=dark] .colab-df-convert {\n",
              "      background-color: #3B4455;\n",
              "      fill: #D2E3FC;\n",
              "    }\n",
              "\n",
              "    [theme=dark] .colab-df-convert:hover {\n",
              "      background-color: #434B5C;\n",
              "      box-shadow: 0px 1px 3px 1px rgba(0, 0, 0, 0.15);\n",
              "      filter: drop-shadow(0px 1px 2px rgba(0, 0, 0, 0.3));\n",
              "      fill: #FFFFFF;\n",
              "    }\n",
              "  </style>\n",
              "\n",
              "      <script>\n",
              "        const buttonEl =\n",
              "          document.querySelector('#df-36c39609-745d-4dde-8a5d-f062c6ad3df2 button.colab-df-convert');\n",
              "        buttonEl.style.display =\n",
              "          google.colab.kernel.accessAllowed ? 'block' : 'none';\n",
              "\n",
              "        async function convertToInteractive(key) {\n",
              "          const element = document.querySelector('#df-36c39609-745d-4dde-8a5d-f062c6ad3df2');\n",
              "          const dataTable =\n",
              "            await google.colab.kernel.invokeFunction('convertToInteractive',\n",
              "                                                     [key], {});\n",
              "          if (!dataTable) return;\n",
              "\n",
              "          const docLinkHtml = 'Like what you see? Visit the ' +\n",
              "            '<a target=\"_blank\" href=https://colab.research.google.com/notebooks/data_table.ipynb>data table notebook</a>'\n",
              "            + ' to learn more about interactive tables.';\n",
              "          element.innerHTML = '';\n",
              "          dataTable['output_type'] = 'display_data';\n",
              "          await google.colab.output.renderOutput(dataTable, element);\n",
              "          const docLink = document.createElement('div');\n",
              "          docLink.innerHTML = docLinkHtml;\n",
              "          element.appendChild(docLink);\n",
              "        }\n",
              "      </script>\n",
              "    </div>\n",
              "  </div>\n",
              "  "
            ]
          },
          "metadata": {},
          "execution_count": 39
        }
      ]
    },
    {
      "cell_type": "code",
      "source": [
        "algerianff['outcome'], unique = pd.factorize(algerianff['outcome'])"
      ],
      "metadata": {
        "id": "YYhos_GN3zgD"
      },
      "execution_count": 92,
      "outputs": []
    },
    {
      "cell_type": "code",
      "source": [
        "unique"
      ],
      "metadata": {
        "colab": {
          "base_uri": "https://localhost:8080/"
        },
        "id": "cbXcJ1C6E5OD",
        "outputId": "d7bb141b-46e7-4dc5-f22b-4391a3b2e18d"
      },
      "execution_count": 93,
      "outputs": [
        {
          "output_type": "execute_result",
          "data": {
            "text/plain": [
              "Index(['not fire', 'fire'], dtype='object')"
            ]
          },
          "metadata": {},
          "execution_count": 93
        }
      ]
    },
    {
      "cell_type": "markdown",
      "source": [
        "The white spaces have to be removed to prepare the data for logistic regression"
      ],
      "metadata": {
        "id": "GfGMplu4kD6m"
      }
    },
    {
      "cell_type": "code",
      "source": [
        "#algerianff['outcome'] = algerianff['outcome'].map(str)"
      ],
      "metadata": {
        "id": "kwMGqZirI2Ty"
      },
      "execution_count": 95,
      "outputs": []
    },
    {
      "cell_type": "code",
      "source": [
        "#algerianff['outcome'] = algerianff['outcome'].str.strip()"
      ],
      "metadata": {
        "id": "_sQPbbUUFTuJ"
      },
      "execution_count": 94,
      "outputs": []
    },
    {
      "cell_type": "code",
      "source": [
        "algerianff['Classes'] = algerianff['Classes'].map(str)\n",
        "algerianff['Classes'] = algerianff['Classes'].str.strip()"
      ],
      "metadata": {
        "id": "v-riBvlZJWj7"
      },
      "execution_count": null,
      "outputs": []
    },
    {
      "cell_type": "code",
      "source": [
        "algerianff['outcome'] = algerianff['Classes']"
      ],
      "metadata": {
        "id": "hIoMqutvLhtJ"
      },
      "execution_count": 96,
      "outputs": []
    },
    {
      "cell_type": "code",
      "source": [
        "algerianff['outcome'], unique = pd.factorize(algerianff['outcome'])"
      ],
      "metadata": {
        "id": "-6pi-K-VM2_A"
      },
      "execution_count": 97,
      "outputs": []
    },
    {
      "cell_type": "code",
      "source": [
        "unique"
      ],
      "metadata": {
        "colab": {
          "base_uri": "https://localhost:8080/"
        },
        "id": "kU5tDa_aMvd8",
        "outputId": "274bbb37-28e7-4d3d-da30-860c0df2afcc"
      },
      "execution_count": null,
      "outputs": [
        {
          "output_type": "execute_result",
          "data": {
            "text/plain": [
              "Index(['not fire', 'fire'], dtype='object')"
            ]
          },
          "metadata": {},
          "execution_count": 46
        }
      ]
    },
    {
      "cell_type": "markdown",
      "source": [
        "No more white spaces befor or after the values in the Classes variable"
      ],
      "metadata": {
        "id": "Pu5sCt5TkSPc"
      }
    },
    {
      "cell_type": "code",
      "source": [
        "algerianff.head()"
      ],
      "metadata": {
        "colab": {
          "base_uri": "https://localhost:8080/",
          "height": 206
        },
        "id": "jc-0FX9wGATh",
        "outputId": "1aaa74fa-c63f-4ffd-dfc5-6e8de5c72c5d"
      },
      "execution_count": null,
      "outputs": [
        {
          "output_type": "execute_result",
          "data": {
            "text/plain": [
              "   Region  day  month  year  Temperature  RH  Ws  Rain  FFMC  DMC    DC  ISI  \\\n",
              "0  Bejaia    1      6  2012           29  57  18   0.0  65.7  3.4   7.6  1.3   \n",
              "1  Bejaia    2      6  2012           29  61  13   1.3  64.4  4.1   7.6  1.0   \n",
              "2  Bejaia    3      6  2012           26  82  22  13.1  47.1  2.5   7.1  0.3   \n",
              "3  Bejaia    4      6  2012           25  89  13   2.5  28.6  1.3   6.9  0.0   \n",
              "4  Bejaia    5      6  2012           27  77  16   0.0  64.8  3.0  14.2  1.2   \n",
              "\n",
              "   BUI  FWI   Classes  outcome  \n",
              "0  3.4  0.5  not fire        0  \n",
              "1  3.9  0.4  not fire        0  \n",
              "2  2.7  0.1  not fire        0  \n",
              "3  1.7  0.0  not fire        0  \n",
              "4  3.9  0.5  not fire        0  "
            ],
            "text/html": [
              "\n",
              "  <div id=\"df-ee852a97-51e5-4bcd-8129-9430b1a1697c\">\n",
              "    <div class=\"colab-df-container\">\n",
              "      <div>\n",
              "<style scoped>\n",
              "    .dataframe tbody tr th:only-of-type {\n",
              "        vertical-align: middle;\n",
              "    }\n",
              "\n",
              "    .dataframe tbody tr th {\n",
              "        vertical-align: top;\n",
              "    }\n",
              "\n",
              "    .dataframe thead th {\n",
              "        text-align: right;\n",
              "    }\n",
              "</style>\n",
              "<table border=\"1\" class=\"dataframe\">\n",
              "  <thead>\n",
              "    <tr style=\"text-align: right;\">\n",
              "      <th></th>\n",
              "      <th>Region</th>\n",
              "      <th>day</th>\n",
              "      <th>month</th>\n",
              "      <th>year</th>\n",
              "      <th>Temperature</th>\n",
              "      <th>RH</th>\n",
              "      <th>Ws</th>\n",
              "      <th>Rain</th>\n",
              "      <th>FFMC</th>\n",
              "      <th>DMC</th>\n",
              "      <th>DC</th>\n",
              "      <th>ISI</th>\n",
              "      <th>BUI</th>\n",
              "      <th>FWI</th>\n",
              "      <th>Classes</th>\n",
              "      <th>outcome</th>\n",
              "    </tr>\n",
              "  </thead>\n",
              "  <tbody>\n",
              "    <tr>\n",
              "      <th>0</th>\n",
              "      <td>Bejaia</td>\n",
              "      <td>1</td>\n",
              "      <td>6</td>\n",
              "      <td>2012</td>\n",
              "      <td>29</td>\n",
              "      <td>57</td>\n",
              "      <td>18</td>\n",
              "      <td>0.0</td>\n",
              "      <td>65.7</td>\n",
              "      <td>3.4</td>\n",
              "      <td>7.6</td>\n",
              "      <td>1.3</td>\n",
              "      <td>3.4</td>\n",
              "      <td>0.5</td>\n",
              "      <td>not fire</td>\n",
              "      <td>0</td>\n",
              "    </tr>\n",
              "    <tr>\n",
              "      <th>1</th>\n",
              "      <td>Bejaia</td>\n",
              "      <td>2</td>\n",
              "      <td>6</td>\n",
              "      <td>2012</td>\n",
              "      <td>29</td>\n",
              "      <td>61</td>\n",
              "      <td>13</td>\n",
              "      <td>1.3</td>\n",
              "      <td>64.4</td>\n",
              "      <td>4.1</td>\n",
              "      <td>7.6</td>\n",
              "      <td>1.0</td>\n",
              "      <td>3.9</td>\n",
              "      <td>0.4</td>\n",
              "      <td>not fire</td>\n",
              "      <td>0</td>\n",
              "    </tr>\n",
              "    <tr>\n",
              "      <th>2</th>\n",
              "      <td>Bejaia</td>\n",
              "      <td>3</td>\n",
              "      <td>6</td>\n",
              "      <td>2012</td>\n",
              "      <td>26</td>\n",
              "      <td>82</td>\n",
              "      <td>22</td>\n",
              "      <td>13.1</td>\n",
              "      <td>47.1</td>\n",
              "      <td>2.5</td>\n",
              "      <td>7.1</td>\n",
              "      <td>0.3</td>\n",
              "      <td>2.7</td>\n",
              "      <td>0.1</td>\n",
              "      <td>not fire</td>\n",
              "      <td>0</td>\n",
              "    </tr>\n",
              "    <tr>\n",
              "      <th>3</th>\n",
              "      <td>Bejaia</td>\n",
              "      <td>4</td>\n",
              "      <td>6</td>\n",
              "      <td>2012</td>\n",
              "      <td>25</td>\n",
              "      <td>89</td>\n",
              "      <td>13</td>\n",
              "      <td>2.5</td>\n",
              "      <td>28.6</td>\n",
              "      <td>1.3</td>\n",
              "      <td>6.9</td>\n",
              "      <td>0.0</td>\n",
              "      <td>1.7</td>\n",
              "      <td>0.0</td>\n",
              "      <td>not fire</td>\n",
              "      <td>0</td>\n",
              "    </tr>\n",
              "    <tr>\n",
              "      <th>4</th>\n",
              "      <td>Bejaia</td>\n",
              "      <td>5</td>\n",
              "      <td>6</td>\n",
              "      <td>2012</td>\n",
              "      <td>27</td>\n",
              "      <td>77</td>\n",
              "      <td>16</td>\n",
              "      <td>0.0</td>\n",
              "      <td>64.8</td>\n",
              "      <td>3.0</td>\n",
              "      <td>14.2</td>\n",
              "      <td>1.2</td>\n",
              "      <td>3.9</td>\n",
              "      <td>0.5</td>\n",
              "      <td>not fire</td>\n",
              "      <td>0</td>\n",
              "    </tr>\n",
              "  </tbody>\n",
              "</table>\n",
              "</div>\n",
              "      <button class=\"colab-df-convert\" onclick=\"convertToInteractive('df-ee852a97-51e5-4bcd-8129-9430b1a1697c')\"\n",
              "              title=\"Convert this dataframe to an interactive table.\"\n",
              "              style=\"display:none;\">\n",
              "        \n",
              "  <svg xmlns=\"http://www.w3.org/2000/svg\" height=\"24px\"viewBox=\"0 0 24 24\"\n",
              "       width=\"24px\">\n",
              "    <path d=\"M0 0h24v24H0V0z\" fill=\"none\"/>\n",
              "    <path d=\"M18.56 5.44l.94 2.06.94-2.06 2.06-.94-2.06-.94-.94-2.06-.94 2.06-2.06.94zm-11 1L8.5 8.5l.94-2.06 2.06-.94-2.06-.94L8.5 2.5l-.94 2.06-2.06.94zm10 10l.94 2.06.94-2.06 2.06-.94-2.06-.94-.94-2.06-.94 2.06-2.06.94z\"/><path d=\"M17.41 7.96l-1.37-1.37c-.4-.4-.92-.59-1.43-.59-.52 0-1.04.2-1.43.59L10.3 9.45l-7.72 7.72c-.78.78-.78 2.05 0 2.83L4 21.41c.39.39.9.59 1.41.59.51 0 1.02-.2 1.41-.59l7.78-7.78 2.81-2.81c.8-.78.8-2.07 0-2.86zM5.41 20L4 18.59l7.72-7.72 1.47 1.35L5.41 20z\"/>\n",
              "  </svg>\n",
              "      </button>\n",
              "      \n",
              "  <style>\n",
              "    .colab-df-container {\n",
              "      display:flex;\n",
              "      flex-wrap:wrap;\n",
              "      gap: 12px;\n",
              "    }\n",
              "\n",
              "    .colab-df-convert {\n",
              "      background-color: #E8F0FE;\n",
              "      border: none;\n",
              "      border-radius: 50%;\n",
              "      cursor: pointer;\n",
              "      display: none;\n",
              "      fill: #1967D2;\n",
              "      height: 32px;\n",
              "      padding: 0 0 0 0;\n",
              "      width: 32px;\n",
              "    }\n",
              "\n",
              "    .colab-df-convert:hover {\n",
              "      background-color: #E2EBFA;\n",
              "      box-shadow: 0px 1px 2px rgba(60, 64, 67, 0.3), 0px 1px 3px 1px rgba(60, 64, 67, 0.15);\n",
              "      fill: #174EA6;\n",
              "    }\n",
              "\n",
              "    [theme=dark] .colab-df-convert {\n",
              "      background-color: #3B4455;\n",
              "      fill: #D2E3FC;\n",
              "    }\n",
              "\n",
              "    [theme=dark] .colab-df-convert:hover {\n",
              "      background-color: #434B5C;\n",
              "      box-shadow: 0px 1px 3px 1px rgba(0, 0, 0, 0.15);\n",
              "      filter: drop-shadow(0px 1px 2px rgba(0, 0, 0, 0.3));\n",
              "      fill: #FFFFFF;\n",
              "    }\n",
              "  </style>\n",
              "\n",
              "      <script>\n",
              "        const buttonEl =\n",
              "          document.querySelector('#df-ee852a97-51e5-4bcd-8129-9430b1a1697c button.colab-df-convert');\n",
              "        buttonEl.style.display =\n",
              "          google.colab.kernel.accessAllowed ? 'block' : 'none';\n",
              "\n",
              "        async function convertToInteractive(key) {\n",
              "          const element = document.querySelector('#df-ee852a97-51e5-4bcd-8129-9430b1a1697c');\n",
              "          const dataTable =\n",
              "            await google.colab.kernel.invokeFunction('convertToInteractive',\n",
              "                                                     [key], {});\n",
              "          if (!dataTable) return;\n",
              "\n",
              "          const docLinkHtml = 'Like what you see? Visit the ' +\n",
              "            '<a target=\"_blank\" href=https://colab.research.google.com/notebooks/data_table.ipynb>data table notebook</a>'\n",
              "            + ' to learn more about interactive tables.';\n",
              "          element.innerHTML = '';\n",
              "          dataTable['output_type'] = 'display_data';\n",
              "          await google.colab.output.renderOutput(dataTable, element);\n",
              "          const docLink = document.createElement('div');\n",
              "          docLink.innerHTML = docLinkHtml;\n",
              "          element.appendChild(docLink);\n",
              "        }\n",
              "      </script>\n",
              "    </div>\n",
              "  </div>\n",
              "  "
            ]
          },
          "metadata": {},
          "execution_count": 95
        }
      ]
    },
    {
      "cell_type": "markdown",
      "source": [
        "Spliting the data into training and test data"
      ],
      "metadata": {
        "id": "PldhbUPAgWia"
      }
    },
    {
      "cell_type": "code",
      "source": [
        "X_train, X_test, y_train, y_test = train_test_split(algerianff.iloc[ :, :], algerianff.iloc[ :, :], test_size=0.03, random_state=0);"
      ],
      "metadata": {
        "id": "l9iffX-umpNi"
      },
      "execution_count": 10,
      "outputs": []
    },
    {
      "cell_type": "code",
      "source": [
        "X_train.shape"
      ],
      "metadata": {
        "colab": {
          "base_uri": "https://localhost:8080/"
        },
        "id": "dueASSkLl1wK",
        "outputId": "9549cf45-e5b6-45a9-d8e4-a3a75d1c13e1"
      },
      "execution_count": 11,
      "outputs": [
        {
          "output_type": "execute_result",
          "data": {
            "text/plain": [
              "(236, 15)"
            ]
          },
          "metadata": {},
          "execution_count": 11
        }
      ]
    },
    {
      "cell_type": "code",
      "source": [
        "X_test.shape"
      ],
      "metadata": {
        "colab": {
          "base_uri": "https://localhost:8080/"
        },
        "id": "dg75Klv1l8Jk",
        "outputId": "d233bf8e-31a1-40b8-a9dc-66b7e2f55638"
      },
      "execution_count": 12,
      "outputs": [
        {
          "output_type": "execute_result",
          "data": {
            "text/plain": [
              "(8, 15)"
            ]
          },
          "metadata": {},
          "execution_count": 12
        }
      ]
    },
    {
      "cell_type": "code",
      "source": [
        "X_test"
      ],
      "metadata": {
        "colab": {
          "base_uri": "https://localhost:8080/",
          "height": 300
        },
        "id": "FOBTsEIwmf6g",
        "outputId": "d8b02b47-8514-4e5e-e461-c19e029a8652"
      },
      "execution_count": null,
      "outputs": [
        {
          "output_type": "execute_result",
          "data": {
            "text/plain": [
              "             Region  day  month  year  Temperature  RH  Ws  Rain  FFMC   DMC  \\\n",
              "64           Bejaia    4      8  2012           34  69  13   0.0  85.0   8.2   \n",
              "63           Bejaia    3      8  2012           35  63  14   0.3  76.6   5.7   \n",
              "55           Bejaia   26      7  2012           36  53  19   0.0  89.2  17.1   \n",
              "111          Bejaia   20      9  2012           28  84  18   0.0  83.8  13.5   \n",
              "225  Sidi-Bel Abbes   12      9  2012           31  72  14   0.0  84.2   8.3   \n",
              "92           Bejaia    1      9  2012           25  76  17   7.2  46.0   1.3   \n",
              "76           Bejaia   16      8  2012           36  61  18   0.3  80.2  11.7   \n",
              "181  Sidi-Bel Abbes   30      7  2012           36  56  16   0.0  88.9  23.8   \n",
              "\n",
              "       DC   ISI   BUI   FWI   Classes  outcome  \n",
              "64   19.8   4.0   8.2   3.9      fire        1  \n",
              "63   10.0   1.7   5.5   0.8  not fire        0  \n",
              "55   98.6  10.0  23.9  15.3      fire        1  \n",
              "111  49.3   4.5  16.0   6.3      fire        1  \n",
              "225  25.2   3.8   9.1   3.9      fire        1  \n",
              "92    7.5   0.2   1.8   0.1  not fire        0  \n",
              "76   90.4   2.8  17.6   4.2      fire        1  \n",
              "181  57.1   8.2  23.8  13.2      fire        1  "
            ],
            "text/html": [
              "\n",
              "  <div id=\"df-7393da1c-81f8-4131-868b-1083943a295c\">\n",
              "    <div class=\"colab-df-container\">\n",
              "      <div>\n",
              "<style scoped>\n",
              "    .dataframe tbody tr th:only-of-type {\n",
              "        vertical-align: middle;\n",
              "    }\n",
              "\n",
              "    .dataframe tbody tr th {\n",
              "        vertical-align: top;\n",
              "    }\n",
              "\n",
              "    .dataframe thead th {\n",
              "        text-align: right;\n",
              "    }\n",
              "</style>\n",
              "<table border=\"1\" class=\"dataframe\">\n",
              "  <thead>\n",
              "    <tr style=\"text-align: right;\">\n",
              "      <th></th>\n",
              "      <th>Region</th>\n",
              "      <th>day</th>\n",
              "      <th>month</th>\n",
              "      <th>year</th>\n",
              "      <th>Temperature</th>\n",
              "      <th>RH</th>\n",
              "      <th>Ws</th>\n",
              "      <th>Rain</th>\n",
              "      <th>FFMC</th>\n",
              "      <th>DMC</th>\n",
              "      <th>DC</th>\n",
              "      <th>ISI</th>\n",
              "      <th>BUI</th>\n",
              "      <th>FWI</th>\n",
              "      <th>Classes</th>\n",
              "      <th>outcome</th>\n",
              "    </tr>\n",
              "  </thead>\n",
              "  <tbody>\n",
              "    <tr>\n",
              "      <th>64</th>\n",
              "      <td>Bejaia</td>\n",
              "      <td>4</td>\n",
              "      <td>8</td>\n",
              "      <td>2012</td>\n",
              "      <td>34</td>\n",
              "      <td>69</td>\n",
              "      <td>13</td>\n",
              "      <td>0.0</td>\n",
              "      <td>85.0</td>\n",
              "      <td>8.2</td>\n",
              "      <td>19.8</td>\n",
              "      <td>4.0</td>\n",
              "      <td>8.2</td>\n",
              "      <td>3.9</td>\n",
              "      <td>fire</td>\n",
              "      <td>1</td>\n",
              "    </tr>\n",
              "    <tr>\n",
              "      <th>63</th>\n",
              "      <td>Bejaia</td>\n",
              "      <td>3</td>\n",
              "      <td>8</td>\n",
              "      <td>2012</td>\n",
              "      <td>35</td>\n",
              "      <td>63</td>\n",
              "      <td>14</td>\n",
              "      <td>0.3</td>\n",
              "      <td>76.6</td>\n",
              "      <td>5.7</td>\n",
              "      <td>10.0</td>\n",
              "      <td>1.7</td>\n",
              "      <td>5.5</td>\n",
              "      <td>0.8</td>\n",
              "      <td>not fire</td>\n",
              "      <td>0</td>\n",
              "    </tr>\n",
              "    <tr>\n",
              "      <th>55</th>\n",
              "      <td>Bejaia</td>\n",
              "      <td>26</td>\n",
              "      <td>7</td>\n",
              "      <td>2012</td>\n",
              "      <td>36</td>\n",
              "      <td>53</td>\n",
              "      <td>19</td>\n",
              "      <td>0.0</td>\n",
              "      <td>89.2</td>\n",
              "      <td>17.1</td>\n",
              "      <td>98.6</td>\n",
              "      <td>10.0</td>\n",
              "      <td>23.9</td>\n",
              "      <td>15.3</td>\n",
              "      <td>fire</td>\n",
              "      <td>1</td>\n",
              "    </tr>\n",
              "    <tr>\n",
              "      <th>111</th>\n",
              "      <td>Bejaia</td>\n",
              "      <td>20</td>\n",
              "      <td>9</td>\n",
              "      <td>2012</td>\n",
              "      <td>28</td>\n",
              "      <td>84</td>\n",
              "      <td>18</td>\n",
              "      <td>0.0</td>\n",
              "      <td>83.8</td>\n",
              "      <td>13.5</td>\n",
              "      <td>49.3</td>\n",
              "      <td>4.5</td>\n",
              "      <td>16.0</td>\n",
              "      <td>6.3</td>\n",
              "      <td>fire</td>\n",
              "      <td>1</td>\n",
              "    </tr>\n",
              "    <tr>\n",
              "      <th>225</th>\n",
              "      <td>Sidi-Bel Abbes</td>\n",
              "      <td>12</td>\n",
              "      <td>9</td>\n",
              "      <td>2012</td>\n",
              "      <td>31</td>\n",
              "      <td>72</td>\n",
              "      <td>14</td>\n",
              "      <td>0.0</td>\n",
              "      <td>84.2</td>\n",
              "      <td>8.3</td>\n",
              "      <td>25.2</td>\n",
              "      <td>3.8</td>\n",
              "      <td>9.1</td>\n",
              "      <td>3.9</td>\n",
              "      <td>fire</td>\n",
              "      <td>1</td>\n",
              "    </tr>\n",
              "    <tr>\n",
              "      <th>92</th>\n",
              "      <td>Bejaia</td>\n",
              "      <td>1</td>\n",
              "      <td>9</td>\n",
              "      <td>2012</td>\n",
              "      <td>25</td>\n",
              "      <td>76</td>\n",
              "      <td>17</td>\n",
              "      <td>7.2</td>\n",
              "      <td>46.0</td>\n",
              "      <td>1.3</td>\n",
              "      <td>7.5</td>\n",
              "      <td>0.2</td>\n",
              "      <td>1.8</td>\n",
              "      <td>0.1</td>\n",
              "      <td>not fire</td>\n",
              "      <td>0</td>\n",
              "    </tr>\n",
              "    <tr>\n",
              "      <th>76</th>\n",
              "      <td>Bejaia</td>\n",
              "      <td>16</td>\n",
              "      <td>8</td>\n",
              "      <td>2012</td>\n",
              "      <td>36</td>\n",
              "      <td>61</td>\n",
              "      <td>18</td>\n",
              "      <td>0.3</td>\n",
              "      <td>80.2</td>\n",
              "      <td>11.7</td>\n",
              "      <td>90.4</td>\n",
              "      <td>2.8</td>\n",
              "      <td>17.6</td>\n",
              "      <td>4.2</td>\n",
              "      <td>fire</td>\n",
              "      <td>1</td>\n",
              "    </tr>\n",
              "    <tr>\n",
              "      <th>181</th>\n",
              "      <td>Sidi-Bel Abbes</td>\n",
              "      <td>30</td>\n",
              "      <td>7</td>\n",
              "      <td>2012</td>\n",
              "      <td>36</td>\n",
              "      <td>56</td>\n",
              "      <td>16</td>\n",
              "      <td>0.0</td>\n",
              "      <td>88.9</td>\n",
              "      <td>23.8</td>\n",
              "      <td>57.1</td>\n",
              "      <td>8.2</td>\n",
              "      <td>23.8</td>\n",
              "      <td>13.2</td>\n",
              "      <td>fire</td>\n",
              "      <td>1</td>\n",
              "    </tr>\n",
              "  </tbody>\n",
              "</table>\n",
              "</div>\n",
              "      <button class=\"colab-df-convert\" onclick=\"convertToInteractive('df-7393da1c-81f8-4131-868b-1083943a295c')\"\n",
              "              title=\"Convert this dataframe to an interactive table.\"\n",
              "              style=\"display:none;\">\n",
              "        \n",
              "  <svg xmlns=\"http://www.w3.org/2000/svg\" height=\"24px\"viewBox=\"0 0 24 24\"\n",
              "       width=\"24px\">\n",
              "    <path d=\"M0 0h24v24H0V0z\" fill=\"none\"/>\n",
              "    <path d=\"M18.56 5.44l.94 2.06.94-2.06 2.06-.94-2.06-.94-.94-2.06-.94 2.06-2.06.94zm-11 1L8.5 8.5l.94-2.06 2.06-.94-2.06-.94L8.5 2.5l-.94 2.06-2.06.94zm10 10l.94 2.06.94-2.06 2.06-.94-2.06-.94-.94-2.06-.94 2.06-2.06.94z\"/><path d=\"M17.41 7.96l-1.37-1.37c-.4-.4-.92-.59-1.43-.59-.52 0-1.04.2-1.43.59L10.3 9.45l-7.72 7.72c-.78.78-.78 2.05 0 2.83L4 21.41c.39.39.9.59 1.41.59.51 0 1.02-.2 1.41-.59l7.78-7.78 2.81-2.81c.8-.78.8-2.07 0-2.86zM5.41 20L4 18.59l7.72-7.72 1.47 1.35L5.41 20z\"/>\n",
              "  </svg>\n",
              "      </button>\n",
              "      \n",
              "  <style>\n",
              "    .colab-df-container {\n",
              "      display:flex;\n",
              "      flex-wrap:wrap;\n",
              "      gap: 12px;\n",
              "    }\n",
              "\n",
              "    .colab-df-convert {\n",
              "      background-color: #E8F0FE;\n",
              "      border: none;\n",
              "      border-radius: 50%;\n",
              "      cursor: pointer;\n",
              "      display: none;\n",
              "      fill: #1967D2;\n",
              "      height: 32px;\n",
              "      padding: 0 0 0 0;\n",
              "      width: 32px;\n",
              "    }\n",
              "\n",
              "    .colab-df-convert:hover {\n",
              "      background-color: #E2EBFA;\n",
              "      box-shadow: 0px 1px 2px rgba(60, 64, 67, 0.3), 0px 1px 3px 1px rgba(60, 64, 67, 0.15);\n",
              "      fill: #174EA6;\n",
              "    }\n",
              "\n",
              "    [theme=dark] .colab-df-convert {\n",
              "      background-color: #3B4455;\n",
              "      fill: #D2E3FC;\n",
              "    }\n",
              "\n",
              "    [theme=dark] .colab-df-convert:hover {\n",
              "      background-color: #434B5C;\n",
              "      box-shadow: 0px 1px 3px 1px rgba(0, 0, 0, 0.15);\n",
              "      filter: drop-shadow(0px 1px 2px rgba(0, 0, 0, 0.3));\n",
              "      fill: #FFFFFF;\n",
              "    }\n",
              "  </style>\n",
              "\n",
              "      <script>\n",
              "        const buttonEl =\n",
              "          document.querySelector('#df-7393da1c-81f8-4131-868b-1083943a295c button.colab-df-convert');\n",
              "        buttonEl.style.display =\n",
              "          google.colab.kernel.accessAllowed ? 'block' : 'none';\n",
              "\n",
              "        async function convertToInteractive(key) {\n",
              "          const element = document.querySelector('#df-7393da1c-81f8-4131-868b-1083943a295c');\n",
              "          const dataTable =\n",
              "            await google.colab.kernel.invokeFunction('convertToInteractive',\n",
              "                                                     [key], {});\n",
              "          if (!dataTable) return;\n",
              "\n",
              "          const docLinkHtml = 'Like what you see? Visit the ' +\n",
              "            '<a target=\"_blank\" href=https://colab.research.google.com/notebooks/data_table.ipynb>data table notebook</a>'\n",
              "            + ' to learn more about interactive tables.';\n",
              "          element.innerHTML = '';\n",
              "          dataTable['output_type'] = 'display_data';\n",
              "          await google.colab.output.renderOutput(dataTable, element);\n",
              "          const docLink = document.createElement('div');\n",
              "          docLink.innerHTML = docLinkHtml;\n",
              "          element.appendChild(docLink);\n",
              "        }\n",
              "      </script>\n",
              "    </div>\n",
              "  </div>\n",
              "  "
            ]
          },
          "metadata": {},
          "execution_count": 51
        }
      ]
    },
    {
      "cell_type": "code",
      "source": [
        "reg5 = np.polyfit(X_test['DMC'], X_test['FWI'], deg = 1)\n",
        "reg5"
      ],
      "metadata": {
        "colab": {
          "base_uri": "https://localhost:8080/"
        },
        "id": "bcs-YySJgCOR",
        "outputId": "9e630c36-d469-47a6-e3fc-583fdeebd3f3"
      },
      "execution_count": null,
      "outputs": [
        {
          "output_type": "execute_result",
          "data": {
            "text/plain": [
              "array([ 0.70995997, -1.98905171])"
            ]
          },
          "metadata": {},
          "execution_count": 52
        }
      ]
    },
    {
      "cell_type": "code",
      "source": [
        "trend5 = np.polyval(reg5, X_test['DMC'])\n",
        "plt.scatter(X_test['DMC'], X_test['FWI'])\n",
        "plt.xlabel(\"DMC\")\n",
        "plt.ylabel(\"FWI\")\n",
        "plt.plot(X_test['DMC'], trend5, 'g');"
      ],
      "metadata": {
        "colab": {
          "base_uri": "https://localhost:8080/",
          "height": 279
        },
        "id": "k3qsC2_CgBQw",
        "outputId": "ba045b8b-901b-468a-b3cb-b7ba24f3eaea"
      },
      "execution_count": null,
      "outputs": [
        {
          "output_type": "display_data",
          "data": {
            "text/plain": [
              "<Figure size 432x288 with 1 Axes>"
            ],
            "image/png": "[encoded data removed]"
          },
          "metadata": {
            "needs_background": "light"
          }
        }
      ]
    },
    {
      "cell_type": "code",
      "source": [
        "X_train2, X_test2, y_train2, y_test2 =train_test_split(algerianff[['DMC']], algerianff.FWI, train_size=0.7)"
      ],
      "metadata": {
        "id": "qSMtnN2TtsQY"
      },
      "execution_count": 13,
      "outputs": []
    },
    {
      "cell_type": "code",
      "source": [
        "lr = LinearRegression().fit(X_train2, y_train2)"
      ],
      "metadata": {
        "id": "XaqpOXvOtt3v"
      },
      "execution_count": 14,
      "outputs": []
    },
    {
      "cell_type": "code",
      "source": [
        "y_pred2 = lr.predict(X_test2)"
      ],
      "metadata": {
        "id": "s7-OzPDLtx0v"
      },
      "execution_count": 15,
      "outputs": []
    },
    {
      "cell_type": "code",
      "source": [
        "y_pred2"
      ],
      "metadata": {
        "colab": {
          "base_uri": "https://localhost:8080/"
        },
        "id": "uSAZyi9Ht1qr",
        "outputId": "4ca40efa-67af-4af9-d6cc-98c817d2e477"
      },
      "execution_count": null,
      "outputs": [
        {
          "output_type": "execute_result",
          "data": {
            "text/plain": [
              "array([ 0.20232184, -0.46503389,  3.03858369,  8.54426847, 15.49589066,\n",
              "        5.65239364, 25.28377471,  3.81716538,  2.31561498,  1.25896841,\n",
              "        6.26413639,  5.37432875,  5.70800661,  3.37226156,  7.93252571,\n",
              "        1.81509819,  5.04065088,  1.59264628,  8.32181656,  7.76568678,\n",
              "       13.32698454, -0.13135603,  8.26620358,  0.5359997 ,  2.48245392,\n",
              "       14.99537386,  0.5359997 ,  6.09729746,  9.54530206, 17.33111892,\n",
              "       10.76878757, 12.71524178,  5.15187684, -0.35380794,  4.48452111,\n",
              "        4.37329515, 35.79462746,  7.87691274,  1.5370333 , 14.60608302,\n",
              "        4.54013408,  3.7615524 ,  5.76361959,  2.87174476,  8.65549442,\n",
              "        0.92529055,  9.712141  ,  4.54013408,  8.65549442, -0.24258198,\n",
              "        6.09729746, 27.06338999,  4.59574706,  5.15187684,  5.4855547 ,\n",
              "        3.03858369,  5.20748982,  7.82129976,  3.14980965, 12.99330667,\n",
              "        9.43407611,  6.31974937, -0.35380794,  2.37122796,  0.81406459,\n",
              "       -0.24258198,  6.15291043, 14.88414791,  9.37846313,  5.42994173,\n",
              "        5.81923257,  3.09419667,  9.04478527,  4.65136004])"
            ]
          },
          "metadata": {},
          "execution_count": 57
        }
      ]
    },
    {
      "cell_type": "code",
      "source": [
        "y_test2.shape"
      ],
      "metadata": {
        "colab": {
          "base_uri": "https://localhost:8080/"
        },
        "id": "WfxqjiiJBYKP",
        "outputId": "5dc64348-f06a-424c-cd7e-fc6cc41312d4"
      },
      "execution_count": 80,
      "outputs": [
        {
          "output_type": "execute_result",
          "data": {
            "text/plain": [
              "(74,)"
            ]
          },
          "metadata": {},
          "execution_count": 80
        }
      ]
    },
    {
      "cell_type": "code",
      "source": [
        "a = [i for i in range(0,74,1)]\n",
        "plt.plot(a,y_test2, color=\"green\", linewidth=2.5, linestyle=\"-.\")\n",
        "plt.plot(a,y_pred2, color=\"red\",  linewidth=2.5, linestyle=\"-.\")\n",
        "plt.suptitle('Actual and Predicted', fontsize=12)              \n",
        "plt.xlabel('Index', fontsize=12)                              \n",
        "plt.ylabel('FWI', fontsize=12);"
      ],
      "metadata": {
        "id": "s_xB9Gy_Lb5i",
        "colab": {
          "base_uri": "https://localhost:8080/",
          "height": 311
        },
        "outputId": "ad8765ee-5d5d-4d4e-9ada-fb4f02ef1092"
      },
      "execution_count": 85,
      "outputs": [
        {
          "output_type": "display_data",
          "data": {
            "text/plain": [
              "<Figure size 432x288 with 1 Axes>"
            ],
            "image/png": "[encoded data removed]"
          },
          "metadata": {
            "needs_background": "light"
          }
        }
      ]
    },
    {
      "cell_type": "code",
      "source": [
        "a = [i for i in range(0,74,1)]\n",
        "plt.plot(a,y_test2-y_pred2, color=\"blue\", linewidth=2.5, linestyle=\"--\")\n",
        "plt.suptitle('Error Terms', fontsize=12)             \n",
        "plt.xlabel('Index', fontsize=12)                      \n",
        "plt.ylabel('ytest2-ypred2', fontsize=12)  ;"
      ],
      "metadata": {
        "colab": {
          "base_uri": "https://localhost:8080/",
          "height": 311
        },
        "id": "rnXi1dK0CQUm",
        "outputId": "55f3429e-e9a6-4527-90e2-fb3a3d30ce3b"
      },
      "execution_count": 73,
      "outputs": [
        {
          "output_type": "display_data",
          "data": {
            "text/plain": [
              "<Figure size 432x288 with 1 Axes>"
            ],
            "image/png": "[encoded data removed]"
          },
          "metadata": {
            "needs_background": "light"
          }
        }
      ]
    },
    {
      "cell_type": "code",
      "source": [
        "from sklearn.metrics import mean_squared_error, r2_score\n",
        "mse = mean_squared_error(y_test2, y_pred2)\n",
        "mse"
      ],
      "metadata": {
        "colab": {
          "base_uri": "https://localhost:8080/"
        },
        "id": "64P5AbYcF56F",
        "outputId": "3156a3c3-d401-43ca-f268-798e4c064877"
      },
      "execution_count": 79,
      "outputs": [
        {
          "output_type": "execute_result",
          "data": {
            "text/plain": [
              "9.604534195802064"
            ]
          },
          "metadata": {},
          "execution_count": 79
        }
      ]
    },
    {
      "cell_type": "code",
      "source": [
        "r_squ = r2_score(y_test2, y_pred2)\n",
        "r_squ"
      ],
      "metadata": {
        "colab": {
          "base_uri": "https://localhost:8080/"
        },
        "id": "imrvtCm1GXYM",
        "outputId": "c1aafc0f-987a-4856-88be-66c76543c6f2"
      },
      "execution_count": 78,
      "outputs": [
        {
          "output_type": "execute_result",
          "data": {
            "text/plain": [
              "0.8523483319722429"
            ]
          },
          "metadata": {},
          "execution_count": 78
        }
      ]
    },
    {
      "cell_type": "markdown",
      "source": [
        "**Logistic Regression**"
      ],
      "metadata": {
        "id": "LxCydihggC6J"
      }
    },
    {
      "cell_type": "code",
      "source": [
        "plt.scatter(algerianff['BUI'], algerianff['outcome'], cmap='rainbow');"
      ],
      "metadata": {
        "colab": {
          "base_uri": "https://localhost:8080/",
          "height": 265
        },
        "id": "wO_ZMmxQXdjV",
        "outputId": "179b2141-4e5b-443a-c671-55333eb32ec0"
      },
      "execution_count": 98,
      "outputs": [
        {
          "output_type": "display_data",
          "data": {
            "text/plain": [
              "<Figure size 432x288 with 1 Axes>"
            ],
            "image/png": "[encoded data removed]"
          },
          "metadata": {
            "needs_background": "light"
          }
        }
      ]
    },
    {
      "cell_type": "code",
      "source": [
        "plt.scatter(algerianff.BUI, algerianff.Classes, marker='+', color='red');"
      ],
      "metadata": {
        "colab": {
          "base_uri": "https://localhost:8080/",
          "height": 268
        },
        "id": "cQRmVt-JJ57o",
        "outputId": "9a33c544-98b1-45b1-9d11-ceba6fe55d44"
      },
      "execution_count": null,
      "outputs": [
        {
          "output_type": "display_data",
          "data": {
            "text/plain": [
              "<Figure size 432x288 with 1 Axes>"
            ],
            "image/png": "[encoded data removed]"
          },
          "metadata": {
            "needs_background": "light"
          }
        }
      ]
    },
    {
      "cell_type": "code",
      "source": [
        "plt.scatter(algerianff.FWI, algerianff.Classes, marker='+', color='red');"
      ],
      "metadata": {
        "colab": {
          "base_uri": "https://localhost:8080/",
          "height": 268
        },
        "id": "cqbKxLG8-d1a",
        "outputId": "5d04a1fd-5bf3-49e7-9543-00752b58c7bb"
      },
      "execution_count": null,
      "outputs": [
        {
          "output_type": "display_data",
          "data": {
            "text/plain": [
              "<Figure size 432x288 with 1 Axes>"
            ],
            "image/png": "[encoded data removed]"
          },
          "metadata": {
            "needs_background": "light"
          }
        }
      ]
    },
    {
      "cell_type": "code",
      "source": [
        "algerianff.info()"
      ],
      "metadata": {
        "colab": {
          "base_uri": "https://localhost:8080/"
        },
        "id": "E_zCTPd1KKMj",
        "outputId": "a1991680-5a32-494c-bf8c-5786eede0e1d"
      },
      "execution_count": null,
      "outputs": [
        {
          "output_type": "stream",
          "name": "stdout",
          "text": [
            "<class 'pandas.core.frame.DataFrame'>\n",
            "RangeIndex: 244 entries, 0 to 243\n",
            "Data columns (total 16 columns):\n",
            " #   Column       Non-Null Count  Dtype  \n",
            "---  ------       --------------  -----  \n",
            " 0   Region       244 non-null    object \n",
            " 1   day          244 non-null    int64  \n",
            " 2   month        244 non-null    int64  \n",
            " 3   year         244 non-null    int64  \n",
            " 4   Temperature  244 non-null    int64  \n",
            " 5    RH          244 non-null    int64  \n",
            " 6    Ws          244 non-null    int64  \n",
            " 7   Rain         244 non-null    float64\n",
            " 8   FFMC         244 non-null    float64\n",
            " 9   DMC          244 non-null    float64\n",
            " 10  DC           244 non-null    float64\n",
            " 11  ISI          244 non-null    float64\n",
            " 12  BUI          244 non-null    float64\n",
            " 13  FWI          244 non-null    float64\n",
            " 14  Classes      244 non-null    object \n",
            " 15  outcome      244 non-null    int64  \n",
            "dtypes: float64(7), int64(7), object(2)\n",
            "memory usage: 30.6+ KB\n"
          ]
        }
      ]
    },
    {
      "cell_type": "code",
      "source": [
        "plt.scatter(algerianff.Temperature, algerianff.Classes, marker='+', color='red');"
      ],
      "metadata": {
        "colab": {
          "base_uri": "https://localhost:8080/",
          "height": 265
        },
        "id": "6PytgXO1D16B",
        "outputId": "7af0195f-c8de-4f67-f439-eab925383f77"
      },
      "execution_count": 114,
      "outputs": [
        {
          "output_type": "display_data",
          "data": {
            "text/plain": [
              "<Figure size 432x288 with 1 Axes>"
            ],
            "image/png": "[encoded data removed]"
          },
          "metadata": {
            "needs_background": "light"
          }
        }
      ]
    },
    {
      "cell_type": "code",
      "source": [
        "X_train3, X_test3, y_train3, y_test3 =train_test_split(algerianff[['DMC']], algerianff.Classes, train_size=0.7, random_state=1)"
      ],
      "metadata": {
        "id": "EfqPjLupE2rJ"
      },
      "execution_count": 140,
      "outputs": []
    },
    {
      "cell_type": "code",
      "source": [
        "X_train3.shape"
      ],
      "metadata": {
        "colab": {
          "base_uri": "https://localhost:8080/"
        },
        "id": "E1YURjtDQuqO",
        "outputId": "c895c2ea-8d42-4d12-d0c7-4a1156587839"
      },
      "execution_count": 141,
      "outputs": [
        {
          "output_type": "execute_result",
          "data": {
            "text/plain": [
              "(170, 1)"
            ]
          },
          "metadata": {},
          "execution_count": 141
        }
      ]
    },
    {
      "cell_type": "code",
      "source": [
        "X_test3.shape"
      ],
      "metadata": {
        "colab": {
          "base_uri": "https://localhost:8080/"
        },
        "id": "wK5tYEldQ3Af",
        "outputId": "1b3451fb-6bb0-4699-9c3d-1876b233dca3"
      },
      "execution_count": 142,
      "outputs": [
        {
          "output_type": "execute_result",
          "data": {
            "text/plain": [
              "(74, 1)"
            ]
          },
          "metadata": {},
          "execution_count": 142
        }
      ]
    },
    {
      "cell_type": "code",
      "source": [
        "y_train3.shape"
      ],
      "metadata": {
        "colab": {
          "base_uri": "https://localhost:8080/"
        },
        "id": "Gsb1qFrGRXP2",
        "outputId": "970d7c26-f18c-47e5-c6cc-712d43755a9b"
      },
      "execution_count": 143,
      "outputs": [
        {
          "output_type": "execute_result",
          "data": {
            "text/plain": [
              "(170,)"
            ]
          },
          "metadata": {},
          "execution_count": 143
        }
      ]
    },
    {
      "cell_type": "code",
      "source": [
        "X_train3"
      ],
      "metadata": {
        "colab": {
          "base_uri": "https://localhost:8080/",
          "height": 424
        },
        "id": "Ws3zuo_hREJY",
        "outputId": "57cfe4cd-6897-4cd3-c405-94be145b5f69"
      },
      "execution_count": 144,
      "outputs": [
        {
          "output_type": "execute_result",
          "data": {
            "text/plain": [
              "      DMC\n",
              "59   28.5\n",
              "102   1.9\n",
              "147  16.5\n",
              "223   4.7\n",
              "88   50.2\n",
              "..    ...\n",
              "137   4.2\n",
              "72   15.6\n",
              "140   4.4\n",
              "235  26.1\n",
              "37   12.5\n",
              "\n",
              "[170 rows x 1 columns]"
            ],
            "text/html": [
              "\n",
              "  <div id=\"df-d51f46bf-d537-465f-a209-090091c01c15\">\n",
              "    <div class=\"colab-df-container\">\n",
              "      <div>\n",
              "<style scoped>\n",
              "    .dataframe tbody tr th:only-of-type {\n",
              "        vertical-align: middle;\n",
              "    }\n",
              "\n",
              "    .dataframe tbody tr th {\n",
              "        vertical-align: top;\n",
              "    }\n",
              "\n",
              "    .dataframe thead th {\n",
              "        text-align: right;\n",
              "    }\n",
              "</style>\n",
              "<table border=\"1\" class=\"dataframe\">\n",
              "  <thead>\n",
              "    <tr style=\"text-align: right;\">\n",
              "      <th></th>\n",
              "      <th>DMC</th>\n",
              "    </tr>\n",
              "  </thead>\n",
              "  <tbody>\n",
              "    <tr>\n",
              "      <th>59</th>\n",
              "      <td>28.5</td>\n",
              "    </tr>\n",
              "    <tr>\n",
              "      <th>102</th>\n",
              "      <td>1.9</td>\n",
              "    </tr>\n",
              "    <tr>\n",
              "      <th>147</th>\n",
              "      <td>16.5</td>\n",
              "    </tr>\n",
              "    <tr>\n",
              "      <th>223</th>\n",
              "      <td>4.7</td>\n",
              "    </tr>\n",
              "    <tr>\n",
              "      <th>88</th>\n",
              "      <td>50.2</td>\n",
              "    </tr>\n",
              "    <tr>\n",
              "      <th>...</th>\n",
              "      <td>...</td>\n",
              "    </tr>\n",
              "    <tr>\n",
              "      <th>137</th>\n",
              "      <td>4.2</td>\n",
              "    </tr>\n",
              "    <tr>\n",
              "      <th>72</th>\n",
              "      <td>15.6</td>\n",
              "    </tr>\n",
              "    <tr>\n",
              "      <th>140</th>\n",
              "      <td>4.4</td>\n",
              "    </tr>\n",
              "    <tr>\n",
              "      <th>235</th>\n",
              "      <td>26.1</td>\n",
              "    </tr>\n",
              "    <tr>\n",
              "      <th>37</th>\n",
              "      <td>12.5</td>\n",
              "    </tr>\n",
              "  </tbody>\n",
              "</table>\n",
              "<p>170 rows × 1 columns</p>\n",
              "</div>\n",
              "      <button class=\"colab-df-convert\" onclick=\"convertToInteractive('df-d51f46bf-d537-465f-a209-090091c01c15')\"\n",
              "              title=\"Convert this dataframe to an interactive table.\"\n",
              "              style=\"display:none;\">\n",
              "        \n",
              "  <svg xmlns=\"http://www.w3.org/2000/svg\" height=\"24px\"viewBox=\"0 0 24 24\"\n",
              "       width=\"24px\">\n",
              "    <path d=\"M0 0h24v24H0V0z\" fill=\"none\"/>\n",
              "    <path d=\"M18.56 5.44l.94 2.06.94-2.06 2.06-.94-2.06-.94-.94-2.06-.94 2.06-2.06.94zm-11 1L8.5 8.5l.94-2.06 2.06-.94-2.06-.94L8.5 2.5l-.94 2.06-2.06.94zm10 10l.94 2.06.94-2.06 2.06-.94-2.06-.94-.94-2.06-.94 2.06-2.06.94z\"/><path d=\"M17.41 7.96l-1.37-1.37c-.4-.4-.92-.59-1.43-.59-.52 0-1.04.2-1.43.59L10.3 9.45l-7.72 7.72c-.78.78-.78 2.05 0 2.83L4 21.41c.39.39.9.59 1.41.59.51 0 1.02-.2 1.41-.59l7.78-7.78 2.81-2.81c.8-.78.8-2.07 0-2.86zM5.41 20L4 18.59l7.72-7.72 1.47 1.35L5.41 20z\"/>\n",
              "  </svg>\n",
              "      </button>\n",
              "      \n",
              "  <style>\n",
              "    .colab-df-container {\n",
              "      display:flex;\n",
              "      flex-wrap:wrap;\n",
              "      gap: 12px;\n",
              "    }\n",
              "\n",
              "    .colab-df-convert {\n",
              "      background-color: #E8F0FE;\n",
              "      border: none;\n",
              "      border-radius: 50%;\n",
              "      cursor: pointer;\n",
              "      display: none;\n",
              "      fill: #1967D2;\n",
              "      height: 32px;\n",
              "      padding: 0 0 0 0;\n",
              "      width: 32px;\n",
              "    }\n",
              "\n",
              "    .colab-df-convert:hover {\n",
              "      background-color: #E2EBFA;\n",
              "      box-shadow: 0px 1px 2px rgba(60, 64, 67, 0.3), 0px 1px 3px 1px rgba(60, 64, 67, 0.15);\n",
              "      fill: #174EA6;\n",
              "    }\n",
              "\n",
              "    [theme=dark] .colab-df-convert {\n",
              "      background-color: #3B4455;\n",
              "      fill: #D2E3FC;\n",
              "    }\n",
              "\n",
              "    [theme=dark] .colab-df-convert:hover {\n",
              "      background-color: #434B5C;\n",
              "      box-shadow: 0px 1px 3px 1px rgba(0, 0, 0, 0.15);\n",
              "      filter: drop-shadow(0px 1px 2px rgba(0, 0, 0, 0.3));\n",
              "      fill: #FFFFFF;\n",
              "    }\n",
              "  </style>\n",
              "\n",
              "      <script>\n",
              "        const buttonEl =\n",
              "          document.querySelector('#df-d51f46bf-d537-465f-a209-090091c01c15 button.colab-df-convert');\n",
              "        buttonEl.style.display =\n",
              "          google.colab.kernel.accessAllowed ? 'block' : 'none';\n",
              "\n",
              "        async function convertToInteractive(key) {\n",
              "          const element = document.querySelector('#df-d51f46bf-d537-465f-a209-090091c01c15');\n",
              "          const dataTable =\n",
              "            await google.colab.kernel.invokeFunction('convertToInteractive',\n",
              "                                                     [key], {});\n",
              "          if (!dataTable) return;\n",
              "\n",
              "          const docLinkHtml = 'Like what you see? Visit the ' +\n",
              "            '<a target=\"_blank\" href=https://colab.research.google.com/notebooks/data_table.ipynb>data table notebook</a>'\n",
              "            + ' to learn more about interactive tables.';\n",
              "          element.innerHTML = '';\n",
              "          dataTable['output_type'] = 'display_data';\n",
              "          await google.colab.output.renderOutput(dataTable, element);\n",
              "          const docLink = document.createElement('div');\n",
              "          docLink.innerHTML = docLinkHtml;\n",
              "          element.appendChild(docLink);\n",
              "        }\n",
              "      </script>\n",
              "    </div>\n",
              "  </div>\n",
              "  "
            ]
          },
          "metadata": {},
          "execution_count": 144
        }
      ]
    },
    {
      "cell_type": "code",
      "source": [
        "log_reg = LogisticRegression()\n",
        "log_reg.fit(X_train3, y_train3)"
      ],
      "metadata": {
        "colab": {
          "base_uri": "https://localhost:8080/"
        },
        "id": "0SZ7J3_nRN92",
        "outputId": "2f8bd5ef-e69c-4d3d-bd6c-54c1e4a2b351"
      },
      "execution_count": 145,
      "outputs": [
        {
          "output_type": "execute_result",
          "data": {
            "text/plain": [
              "LogisticRegression()"
            ]
          },
          "metadata": {},
          "execution_count": 145
        }
      ]
    },
    {
      "cell_type": "code",
      "source": [
        "log_reg"
      ],
      "metadata": {
        "colab": {
          "base_uri": "https://localhost:8080/"
        },
        "id": "PZMwkPhQW2Cu",
        "outputId": "77dbd55e-bf00-46b9-d7ed-a8f61f2f824e"
      },
      "execution_count": 146,
      "outputs": [
        {
          "output_type": "execute_result",
          "data": {
            "text/plain": [
              "LogisticRegression()"
            ]
          },
          "metadata": {},
          "execution_count": 146
        }
      ]
    },
    {
      "cell_type": "code",
      "source": [
        "y_pred3 = log_reg.predict(X_test3)"
      ],
      "metadata": {
        "id": "_ZSZ49pISiVc"
      },
      "execution_count": 120,
      "outputs": []
    },
    {
      "cell_type": "code",
      "source": [
        "log_reg.predict(X_test3)"
      ],
      "metadata": {
        "colab": {
          "base_uri": "https://localhost:8080/"
        },
        "id": "W4JZi_8qUOsj",
        "outputId": "7824edad-b29a-47cf-a867-89c281754b5a"
      },
      "execution_count": 121,
      "outputs": [
        {
          "output_type": "execute_result",
          "data": {
            "text/plain": [
              "array(['fire', 'fire', 'not fire', 'fire', 'fire', 'fire', 'fire', 'fire',\n",
              "       'not fire', 'fire', 'not fire', 'fire', 'not fire', 'not fire',\n",
              "       'not fire', 'not fire', 'not fire', 'fire', 'not fire', 'fire',\n",
              "       'not fire', 'fire', 'fire', 'fire', 'not fire', 'fire', 'not fire',\n",
              "       'fire', 'fire', 'not fire', 'fire', 'not fire', 'fire', 'fire',\n",
              "       'fire', 'fire', 'fire', 'not fire', 'not fire', 'not fire',\n",
              "       'not fire', 'not fire', 'not fire', 'fire', 'fire', 'fire',\n",
              "       'not fire', 'fire', 'fire', 'not fire', 'not fire', 'not fire',\n",
              "       'fire', 'fire', 'fire', 'not fire', 'fire', 'fire', 'fire',\n",
              "       'not fire', 'fire', 'fire', 'fire', 'fire', 'not fire', 'not fire',\n",
              "       'not fire', 'fire', 'fire', 'not fire', 'not fire', 'fire',\n",
              "       'not fire', 'fire'], dtype=object)"
            ]
          },
          "metadata": {},
          "execution_count": 121
        }
      ]
    },
    {
      "cell_type": "code",
      "source": [
        "confusion_matrix(y_test3, y_pred3)"
      ],
      "metadata": {
        "colab": {
          "base_uri": "https://localhost:8080/"
        },
        "id": "NvEKtQI0TOXn",
        "outputId": "a12cff2f-7189-4216-fc2d-b88526ce772c"
      },
      "execution_count": 122,
      "outputs": [
        {
          "output_type": "execute_result",
          "data": {
            "text/plain": [
              "array([[33,  5],\n",
              "       [ 9, 27]])"
            ]
          },
          "metadata": {},
          "execution_count": 122
        }
      ]
    },
    {
      "cell_type": "markdown",
      "source": [
        "33 true positives, 27 true negatives, 5 false positives, and 9 false negatives"
      ],
      "metadata": {
        "id": "AKSUHk6OU_6_"
      }
    },
    {
      "cell_type": "code",
      "source": [
        "log_reg.score(X_test3, y_test3)"
      ],
      "metadata": {
        "colab": {
          "base_uri": "https://localhost:8080/"
        },
        "id": "gJB46iUcU9Ac",
        "outputId": "d536f18e-d12d-4f0c-9514-e06626540ac2"
      },
      "execution_count": 139,
      "outputs": [
        {
          "output_type": "execute_result",
          "data": {
            "text/plain": [
              "0.8378378378378378"
            ]
          },
          "metadata": {},
          "execution_count": 139
        }
      ]
    },
    {
      "cell_type": "code",
      "source": [
        "sns.regplot(x=algerianff['Temperature'], y=algerianff['outcome'], logistic=True, ci=None,scatter_kws={'color': 'blue'}, line_kws={'color': 'red'});"
      ],
      "metadata": {
        "colab": {
          "base_uri": "https://localhost:8080/",
          "height": 279
        },
        "id": "WbN05DweX2Jo",
        "outputId": "022f3295-a6af-42e1-f85f-0d8498612a7e"
      },
      "execution_count": null,
      "outputs": [
        {
          "output_type": "display_data",
          "data": {
            "text/plain": [
              "<Figure size 432x288 with 1 Axes>"
            ],
            "image/png": "[encoded data removed]"
          },
          "metadata": {
            "needs_background": "light"
          }
        }
      ]
    },
    {
      "cell_type": "code",
      "source": [
        "sns.regplot(x=algerianff['FWI'], y=algerianff['outcome'], marker= '+', logistic=True, ci=None, scatter_kws={'color': 'blue'}, line_kws={'color': 'red'});\n",
        "plt.show()"
      ],
      "metadata": {
        "colab": {
          "base_uri": "https://localhost:8080/",
          "height": 334
        },
        "id": "nq9-xdsTTrl3",
        "outputId": "6f8de1b4-1701-4d03-c898-375bd0cc7a4f"
      },
      "execution_count": 127,
      "outputs": [
        {
          "output_type": "stream",
          "name": "stderr",
          "text": [
            "/usr/local/lib/python3.7/dist-packages/statsmodels/genmod/families/family.py:890: RuntimeWarning: invalid value encountered in true_divide\n",
            "  n_endog_mu = self._clean((1. - endog) / (1. - mu))\n"
          ]
        },
        {
          "output_type": "display_data",
          "data": {
            "text/plain": [
              "<Figure size 432x288 with 1 Axes>"
            ],
            "image/png": "[encoded data removed]"
          },
          "metadata": {
            "needs_background": "light"
          }
        }
      ]
    },
    {
      "cell_type": "code",
      "source": [
        "sns.regplot(x=algerianff['DMC'], y=algerianff['outcome'], marker='+', \n",
        "            logistic=True, ci=None, \n",
        "            scatter_kws={'color': 'blue'}, line_kws={'color': 'red'});"
      ],
      "metadata": {
        "colab": {
          "base_uri": "https://localhost:8080/",
          "height": 279
        },
        "id": "9hV1rkr_X9-b",
        "outputId": "5e3c2d32-a531-4c3f-8b6a-602979caa8fb"
      },
      "execution_count": 138,
      "outputs": [
        {
          "output_type": "display_data",
          "data": {
            "text/plain": [
              "<Figure size 432x288 with 1 Axes>"
            ],
            "image/png": "[encoded data removed]"
          },
          "metadata": {
            "needs_background": "light"
          }
        }
      ]
    },
    {
      "cell_type": "code",
      "source": [
        "X_train4, X_test4, y_train4, y_test4 = train_test_split(algerianff.iloc[ :, :], algerianff.iloc[ :, :], test_size=0.03, random_state=0);"
      ],
      "metadata": {
        "id": "HXEDCkxgO2mb"
      },
      "execution_count": 135,
      "outputs": []
    },
    {
      "cell_type": "code",
      "source": [
        "sns.regplot(x=X_test4['DMC'], y=X_test4['outcome'], logistic=True, ci=None, scatter_kws={'color': 'blue'}, line_kws={'color': 'red'});"
      ],
      "metadata": {
        "id": "uOvqQ8zvYKQo",
        "colab": {
          "base_uri": "https://localhost:8080/",
          "height": 334
        },
        "outputId": "02d77c0f-1ff2-43e6-cb6c-5549876a1f27"
      },
      "execution_count": 136,
      "outputs": [
        {
          "output_type": "stream",
          "name": "stderr",
          "text": [
            "/usr/local/lib/python3.7/dist-packages/statsmodels/genmod/families/family.py:890: RuntimeWarning: invalid value encountered in true_divide\n",
            "  n_endog_mu = self._clean((1. - endog) / (1. - mu))\n"
          ]
        },
        {
          "output_type": "display_data",
          "data": {
            "text/plain": [
              "<Figure size 432x288 with 1 Axes>"
            ],
            "image/png": "[encoded data removed]"
          },
          "metadata": {
            "needs_background": "light"
          }
        }
      ]
    }
  ]
}